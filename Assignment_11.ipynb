{
  "nbformat": 4,
  "nbformat_minor": 0,
  "metadata": {
    "colab": {
      "name": "Assignment_11.ipynb",
      "version": "0.3.2",
      "views": {},
      "default_view": {},
      "provenance": [],
      "collapsed_sections": []
    },
    "kernelspec": {
      "name": "python3",
      "display_name": "Python 3"
    }
  },
  "cells": [
    {
      "metadata": {
        "id": "08VFSUk5I037",
        "colab_type": "code",
        "colab": {
          "autoexec": {
            "startup": false,
            "wait_interval": 0
          }
        },
        "cellView": "code"
      },
      "cell_type": "code",
      "source": [
        "#Question 1\n",
        "\n",
        "The answer is P(YES/Sunny) = 3/9"
      ],
      "execution_count": 0,
      "outputs": []
    },
    {
      "metadata": {
        "id": "VFJdXcpoQxBx",
        "colab_type": "code",
        "colab": {
          "autoexec": {
            "startup": false,
            "wait_interval": 0
          }
        }
      },
      "cell_type": "code",
      "source": [
        "#Question 2\n",
        "\n",
        "import pandas as pd"
      ],
      "execution_count": 0,
      "outputs": []
    },
    {
      "metadata": {
        "id": "l5TxD1wAOLw7",
        "colab_type": "code",
        "colab": {
          "autoexec": {
            "startup": false,
            "wait_interval": 0
          }
        }
      },
      "cell_type": "code",
      "source": [
        "from sklearn import datasets\n",
        "df=datasets.load_iris()"
      ],
      "execution_count": 0,
      "outputs": []
    },
    {
      "metadata": {
        "id": "zMKBu4MLPJzn",
        "colab_type": "code",
        "colab": {
          "autoexec": {
            "startup": false,
            "wait_interval": 0
          },
          "base_uri": "https://localhost:8080/",
          "height": 204
        },
        "outputId": "377afdac-0d2a-40e7-bb73-11f7190d01a6",
        "executionInfo": {
          "status": "ok",
          "timestamp": 1528745835755,
          "user_tz": -330,
          "elapsed": 1030,
          "user": {
            "displayName": "naman bhardwaj",
            "photoUrl": "//lh5.googleusercontent.com/-lOfdMFCMasA/AAAAAAAAAAI/AAAAAAAAE2U/ePtzxwaE5ow/s50-c-k-no/photo.jpg",
            "userId": "106833748446108197788"
          }
        }
      },
      "cell_type": "code",
      "source": [
        "x=pd.DataFrame(df.data)\n",
        "x.head()"
      ],
      "execution_count": 55,
      "outputs": [
        {
          "output_type": "execute_result",
          "data": {
            "text/html": [
              "<div>\n",
              "<style scoped>\n",
              "    .dataframe tbody tr th:only-of-type {\n",
              "        vertical-align: middle;\n",
              "    }\n",
              "\n",
              "    .dataframe tbody tr th {\n",
              "        vertical-align: top;\n",
              "    }\n",
              "\n",
              "    .dataframe thead th {\n",
              "        text-align: right;\n",
              "    }\n",
              "</style>\n",
              "<table border=\"1\" class=\"dataframe\">\n",
              "  <thead>\n",
              "    <tr style=\"text-align: right;\">\n",
              "      <th></th>\n",
              "      <th>0</th>\n",
              "      <th>1</th>\n",
              "      <th>2</th>\n",
              "      <th>3</th>\n",
              "    </tr>\n",
              "  </thead>\n",
              "  <tbody>\n",
              "    <tr>\n",
              "      <th>0</th>\n",
              "      <td>5.1</td>\n",
              "      <td>3.5</td>\n",
              "      <td>1.4</td>\n",
              "      <td>0.2</td>\n",
              "    </tr>\n",
              "    <tr>\n",
              "      <th>1</th>\n",
              "      <td>4.9</td>\n",
              "      <td>3.0</td>\n",
              "      <td>1.4</td>\n",
              "      <td>0.2</td>\n",
              "    </tr>\n",
              "    <tr>\n",
              "      <th>2</th>\n",
              "      <td>4.7</td>\n",
              "      <td>3.2</td>\n",
              "      <td>1.3</td>\n",
              "      <td>0.2</td>\n",
              "    </tr>\n",
              "    <tr>\n",
              "      <th>3</th>\n",
              "      <td>4.6</td>\n",
              "      <td>3.1</td>\n",
              "      <td>1.5</td>\n",
              "      <td>0.2</td>\n",
              "    </tr>\n",
              "    <tr>\n",
              "      <th>4</th>\n",
              "      <td>5.0</td>\n",
              "      <td>3.6</td>\n",
              "      <td>1.4</td>\n",
              "      <td>0.2</td>\n",
              "    </tr>\n",
              "  </tbody>\n",
              "</table>\n",
              "</div>"
            ],
            "text/plain": [
              "     0    1    2    3\n",
              "0  5.1  3.5  1.4  0.2\n",
              "1  4.9  3.0  1.4  0.2\n",
              "2  4.7  3.2  1.3  0.2\n",
              "3  4.6  3.1  1.5  0.2\n",
              "4  5.0  3.6  1.4  0.2"
            ]
          },
          "metadata": {
            "tags": []
          },
          "execution_count": 55
        }
      ]
    },
    {
      "metadata": {
        "id": "2KITxKkDQ7Po",
        "colab_type": "code",
        "colab": {
          "autoexec": {
            "startup": false,
            "wait_interval": 0
          },
          "base_uri": "https://localhost:8080/",
          "height": 204
        },
        "outputId": "7f148827-2c96-41fb-843d-130395a43dd3",
        "executionInfo": {
          "status": "ok",
          "timestamp": 1528745836837,
          "user_tz": -330,
          "elapsed": 966,
          "user": {
            "displayName": "naman bhardwaj",
            "photoUrl": "//lh5.googleusercontent.com/-lOfdMFCMasA/AAAAAAAAAAI/AAAAAAAAE2U/ePtzxwaE5ow/s50-c-k-no/photo.jpg",
            "userId": "106833748446108197788"
          }
        }
      },
      "cell_type": "code",
      "source": [
        "y=pd.DataFrame(df.target)\n",
        "y.head()"
      ],
      "execution_count": 56,
      "outputs": [
        {
          "output_type": "execute_result",
          "data": {
            "text/html": [
              "<div>\n",
              "<style scoped>\n",
              "    .dataframe tbody tr th:only-of-type {\n",
              "        vertical-align: middle;\n",
              "    }\n",
              "\n",
              "    .dataframe tbody tr th {\n",
              "        vertical-align: top;\n",
              "    }\n",
              "\n",
              "    .dataframe thead th {\n",
              "        text-align: right;\n",
              "    }\n",
              "</style>\n",
              "<table border=\"1\" class=\"dataframe\">\n",
              "  <thead>\n",
              "    <tr style=\"text-align: right;\">\n",
              "      <th></th>\n",
              "      <th>0</th>\n",
              "    </tr>\n",
              "  </thead>\n",
              "  <tbody>\n",
              "    <tr>\n",
              "      <th>0</th>\n",
              "      <td>0</td>\n",
              "    </tr>\n",
              "    <tr>\n",
              "      <th>1</th>\n",
              "      <td>0</td>\n",
              "    </tr>\n",
              "    <tr>\n",
              "      <th>2</th>\n",
              "      <td>0</td>\n",
              "    </tr>\n",
              "    <tr>\n",
              "      <th>3</th>\n",
              "      <td>0</td>\n",
              "    </tr>\n",
              "    <tr>\n",
              "      <th>4</th>\n",
              "      <td>0</td>\n",
              "    </tr>\n",
              "  </tbody>\n",
              "</table>\n",
              "</div>"
            ],
            "text/plain": [
              "   0\n",
              "0  0\n",
              "1  0\n",
              "2  0\n",
              "3  0\n",
              "4  0"
            ]
          },
          "metadata": {
            "tags": []
          },
          "execution_count": 56
        }
      ]
    },
    {
      "metadata": {
        "id": "uCyAkoo_REnG",
        "colab_type": "code",
        "colab": {
          "autoexec": {
            "startup": false,
            "wait_interval": 0
          },
          "base_uri": "https://localhost:8080/",
          "height": 34
        },
        "outputId": "f45db74b-4427-4df0-f946-802d43aca7a1",
        "executionInfo": {
          "status": "ok",
          "timestamp": 1528745837954,
          "user_tz": -330,
          "elapsed": 974,
          "user": {
            "displayName": "naman bhardwaj",
            "photoUrl": "//lh5.googleusercontent.com/-lOfdMFCMasA/AAAAAAAAAAI/AAAAAAAAE2U/ePtzxwaE5ow/s50-c-k-no/photo.jpg",
            "userId": "106833748446108197788"
          }
        }
      },
      "cell_type": "code",
      "source": [
        "x.shape"
      ],
      "execution_count": 57,
      "outputs": [
        {
          "output_type": "execute_result",
          "data": {
            "text/plain": [
              "(150, 4)"
            ]
          },
          "metadata": {
            "tags": []
          },
          "execution_count": 57
        }
      ]
    },
    {
      "metadata": {
        "id": "WbLlgRnNRIgq",
        "colab_type": "code",
        "colab": {
          "autoexec": {
            "startup": false,
            "wait_interval": 0
          },
          "base_uri": "https://localhost:8080/",
          "height": 85
        },
        "outputId": "00f3504d-4843-4fde-afee-7efaab7ef7bc",
        "executionInfo": {
          "status": "ok",
          "timestamp": 1528745839309,
          "user_tz": -330,
          "elapsed": 1119,
          "user": {
            "displayName": "naman bhardwaj",
            "photoUrl": "//lh5.googleusercontent.com/-lOfdMFCMasA/AAAAAAAAAAI/AAAAAAAAE2U/ePtzxwaE5ow/s50-c-k-no/photo.jpg",
            "userId": "106833748446108197788"
          }
        }
      },
      "cell_type": "code",
      "source": [
        "y[0].value_counts()"
      ],
      "execution_count": 58,
      "outputs": [
        {
          "output_type": "execute_result",
          "data": {
            "text/plain": [
              "2    50\n",
              "1    50\n",
              "0    50\n",
              "Name: 0, dtype: int64"
            ]
          },
          "metadata": {
            "tags": []
          },
          "execution_count": 58
        }
      ]
    },
    {
      "metadata": {
        "id": "n_INPxrSSRHQ",
        "colab_type": "code",
        "colab": {
          "autoexec": {
            "startup": false,
            "wait_interval": 0
          }
        }
      },
      "cell_type": "code",
      "source": [
        "from sklearn.model_selection import train_test_split\n",
        "x_train, x_test, y_train, y_test = train_test_split(x, y, test_size=0.25)"
      ],
      "execution_count": 0,
      "outputs": []
    },
    {
      "metadata": {
        "id": "2j_2qnpTUHeJ",
        "colab_type": "text"
      },
      "cell_type": "markdown",
      "source": [
        "-----------------------"
      ]
    },
    {
      "metadata": {
        "id": "QcYXhDZ0aQbO",
        "colab_type": "text"
      },
      "cell_type": "markdown",
      "source": [
        "**Gaussian NB**"
      ]
    },
    {
      "metadata": {
        "id": "CFMliv9qSwiR",
        "colab_type": "code",
        "colab": {
          "autoexec": {
            "startup": false,
            "wait_interval": 0
          },
          "base_uri": "https://localhost:8080/",
          "height": 88
        },
        "outputId": "e9d346d0-9704-48a9-f1e2-87a473d8a12e",
        "executionInfo": {
          "status": "ok",
          "timestamp": 1528745842184,
          "user_tz": -330,
          "elapsed": 956,
          "user": {
            "displayName": "naman bhardwaj",
            "photoUrl": "//lh5.googleusercontent.com/-lOfdMFCMasA/AAAAAAAAAAI/AAAAAAAAE2U/ePtzxwaE5ow/s50-c-k-no/photo.jpg",
            "userId": "106833748446108197788"
          }
        }
      },
      "cell_type": "code",
      "source": [
        "from sklearn.naive_bayes import GaussianNB\n",
        "\n",
        "gnb=GaussianNB()\n",
        "gnb.fit(x_train,y_train)"
      ],
      "execution_count": 60,
      "outputs": [
        {
          "output_type": "stream",
          "text": [
            "/usr/local/lib/python3.6/dist-packages/sklearn/utils/validation.py:578: DataConversionWarning: A column-vector y was passed when a 1d array was expected. Please change the shape of y to (n_samples, ), for example using ravel().\n",
            "  y = column_or_1d(y, warn=True)\n"
          ],
          "name": "stderr"
        },
        {
          "output_type": "execute_result",
          "data": {
            "text/plain": [
              "GaussianNB(priors=None)"
            ]
          },
          "metadata": {
            "tags": []
          },
          "execution_count": 60
        }
      ]
    },
    {
      "metadata": {
        "id": "6MYFSOOOTiBV",
        "colab_type": "code",
        "colab": {
          "autoexec": {
            "startup": false,
            "wait_interval": 0
          }
        }
      },
      "cell_type": "code",
      "source": [
        "y_pred=gnb.predict(x_test)"
      ],
      "execution_count": 0,
      "outputs": []
    },
    {
      "metadata": {
        "id": "HUS5pn8JT4PI",
        "colab_type": "code",
        "colab": {
          "autoexec": {
            "startup": false,
            "wait_interval": 0
          },
          "base_uri": "https://localhost:8080/",
          "height": 68
        },
        "outputId": "f02a79d2-e96e-45f3-f6ea-c8cd2c5a9269",
        "executionInfo": {
          "status": "ok",
          "timestamp": 1528746687289,
          "user_tz": -330,
          "elapsed": 1078,
          "user": {
            "displayName": "naman bhardwaj",
            "photoUrl": "//lh5.googleusercontent.com/-lOfdMFCMasA/AAAAAAAAAAI/AAAAAAAAE2U/ePtzxwaE5ow/s50-c-k-no/photo.jpg",
            "userId": "106833748446108197788"
          }
        }
      },
      "cell_type": "code",
      "source": [
        "from sklearn.metrics import confusion_matrix\n",
        "confusion_matrix(y_test,y_pred)"
      ],
      "execution_count": 73,
      "outputs": [
        {
          "output_type": "execute_result",
          "data": {
            "text/plain": [
              "array([[12,  0,  0],\n",
              "       [ 0, 12,  1],\n",
              "       [ 0,  0, 13]])"
            ]
          },
          "metadata": {
            "tags": []
          },
          "execution_count": 73
        }
      ]
    },
    {
      "metadata": {
        "id": "ab4BpYl3U7jr",
        "colab_type": "code",
        "colab": {
          "autoexec": {
            "startup": false,
            "wait_interval": 0
          },
          "base_uri": "https://localhost:8080/",
          "height": 153
        },
        "outputId": "a08d0599-5d07-421e-fe61-c09221ade0db",
        "executionInfo": {
          "status": "ok",
          "timestamp": 1528746693467,
          "user_tz": -330,
          "elapsed": 1373,
          "user": {
            "displayName": "naman bhardwaj",
            "photoUrl": "//lh5.googleusercontent.com/-lOfdMFCMasA/AAAAAAAAAAI/AAAAAAAAE2U/ePtzxwaE5ow/s50-c-k-no/photo.jpg",
            "userId": "106833748446108197788"
          }
        }
      },
      "cell_type": "code",
      "source": [
        "from sklearn.metrics import classification_report\n",
        "print(classification_report(y_test,y_pred))"
      ],
      "execution_count": 74,
      "outputs": [
        {
          "output_type": "stream",
          "text": [
            "             precision    recall  f1-score   support\n",
            "\n",
            "          0       1.00      1.00      1.00        12\n",
            "          1       1.00      0.92      0.96        13\n",
            "          2       0.93      1.00      0.96        13\n",
            "\n",
            "avg / total       0.98      0.97      0.97        38\n",
            "\n"
          ],
          "name": "stdout"
        }
      ]
    },
    {
      "metadata": {
        "id": "JydA_IiXaLqG",
        "colab_type": "text"
      },
      "cell_type": "markdown",
      "source": [
        "--------------------"
      ]
    },
    {
      "metadata": {
        "id": "TR22drH3aCc5",
        "colab_type": "text"
      },
      "cell_type": "markdown",
      "source": [
        "**Multinomial NB**"
      ]
    },
    {
      "metadata": {
        "id": "zKTXafj9VxKK",
        "colab_type": "code",
        "colab": {
          "autoexec": {
            "startup": false,
            "wait_interval": 0
          },
          "base_uri": "https://localhost:8080/",
          "height": 88
        },
        "outputId": "7f373105-d088-463b-d643-1f4b426e2622",
        "executionInfo": {
          "status": "ok",
          "timestamp": 1528746709164,
          "user_tz": -330,
          "elapsed": 1093,
          "user": {
            "displayName": "naman bhardwaj",
            "photoUrl": "//lh5.googleusercontent.com/-lOfdMFCMasA/AAAAAAAAAAI/AAAAAAAAE2U/ePtzxwaE5ow/s50-c-k-no/photo.jpg",
            "userId": "106833748446108197788"
          }
        }
      },
      "cell_type": "code",
      "source": [
        "from sklearn.naive_bayes import MultinomialNB\n",
        "\n",
        "mnb=MultinomialNB()\n",
        "mnb.fit(x_train,y_train)"
      ],
      "execution_count": 75,
      "outputs": [
        {
          "output_type": "stream",
          "text": [
            "/usr/local/lib/python3.6/dist-packages/sklearn/utils/validation.py:578: DataConversionWarning: A column-vector y was passed when a 1d array was expected. Please change the shape of y to (n_samples, ), for example using ravel().\n",
            "  y = column_or_1d(y, warn=True)\n"
          ],
          "name": "stderr"
        },
        {
          "output_type": "execute_result",
          "data": {
            "text/plain": [
              "MultinomialNB(alpha=1.0, class_prior=None, fit_prior=True)"
            ]
          },
          "metadata": {
            "tags": []
          },
          "execution_count": 75
        }
      ]
    },
    {
      "metadata": {
        "id": "3HeKhI9AWFvb",
        "colab_type": "code",
        "colab": {
          "autoexec": {
            "startup": false,
            "wait_interval": 0
          }
        }
      },
      "cell_type": "code",
      "source": [
        "y_pred=mnb.predict(x_test)"
      ],
      "execution_count": 0,
      "outputs": []
    },
    {
      "metadata": {
        "id": "PdVE57ASWPLZ",
        "colab_type": "code",
        "colab": {
          "autoexec": {
            "startup": false,
            "wait_interval": 0
          },
          "base_uri": "https://localhost:8080/",
          "height": 68
        },
        "outputId": "9dcf5756-1d6c-4afd-8f76-12079ed1b140",
        "executionInfo": {
          "status": "ok",
          "timestamp": 1528746718360,
          "user_tz": -330,
          "elapsed": 1137,
          "user": {
            "displayName": "naman bhardwaj",
            "photoUrl": "//lh5.googleusercontent.com/-lOfdMFCMasA/AAAAAAAAAAI/AAAAAAAAE2U/ePtzxwaE5ow/s50-c-k-no/photo.jpg",
            "userId": "106833748446108197788"
          }
        }
      },
      "cell_type": "code",
      "source": [
        "from sklearn.metrics import confusion_matrix\n",
        "confusion_matrix(y_test,y_pred)"
      ],
      "execution_count": 77,
      "outputs": [
        {
          "output_type": "execute_result",
          "data": {
            "text/plain": [
              "array([[12,  0,  0],\n",
              "       [ 0, 13,  0],\n",
              "       [ 0,  1, 12]])"
            ]
          },
          "metadata": {
            "tags": []
          },
          "execution_count": 77
        }
      ]
    },
    {
      "metadata": {
        "id": "oT_uP1BNWT06",
        "colab_type": "code",
        "colab": {
          "autoexec": {
            "startup": false,
            "wait_interval": 0
          },
          "base_uri": "https://localhost:8080/",
          "height": 153
        },
        "outputId": "51609493-7b4e-45ce-d8ee-8b9b11f640af",
        "executionInfo": {
          "status": "ok",
          "timestamp": 1528746725468,
          "user_tz": -330,
          "elapsed": 1090,
          "user": {
            "displayName": "naman bhardwaj",
            "photoUrl": "//lh5.googleusercontent.com/-lOfdMFCMasA/AAAAAAAAAAI/AAAAAAAAE2U/ePtzxwaE5ow/s50-c-k-no/photo.jpg",
            "userId": "106833748446108197788"
          }
        }
      },
      "cell_type": "code",
      "source": [
        "from sklearn.metrics import classification_report\n",
        "print(classification_report(y_test,y_pred))"
      ],
      "execution_count": 78,
      "outputs": [
        {
          "output_type": "stream",
          "text": [
            "             precision    recall  f1-score   support\n",
            "\n",
            "          0       1.00      1.00      1.00        12\n",
            "          1       0.93      1.00      0.96        13\n",
            "          2       1.00      0.92      0.96        13\n",
            "\n",
            "avg / total       0.98      0.97      0.97        38\n",
            "\n"
          ],
          "name": "stdout"
        }
      ]
    }
  ]
}