{
 "cells": [
  {
   "cell_type": "code",
   "execution_count": 10,
   "metadata": {},
   "outputs": [
    {
     "name": "stdout",
     "output_type": "stream",
     "text": [
      "[[ 0.10190505]\n",
      " [ 0.34057283]\n",
      " [ 0.81196377]\n",
      " [ 0.44385724]\n",
      " [ 0.5994095 ]\n",
      " [ 0.09618022]\n",
      " [ 0.70674528]\n",
      " [ 0.64897331]\n",
      " [ 0.78750767]\n",
      " [ 0.39664212]]\n",
      "mean = 0.49337569839\n"
     ]
    }
   ],
   "source": [
    "#Question 1\n",
    "\n",
    "import numpy as np\n",
    "a=np.random.rand(10,1)\n",
    "print(a)\n",
    "\n",
    "print(\"mean = \" + str(np.average(a)))"
   ]
  },
  {
   "cell_type": "code",
   "execution_count": 39,
   "metadata": {},
   "outputs": [
    {
     "name": "stdout",
     "output_type": "stream",
     "text": [
      "[[ 0.82474906]\n",
      " [ 0.37329273]\n",
      " [ 0.69833411]\n",
      " [ 0.48820897]\n",
      " [ 0.67821273]\n",
      " [ 0.85896877]\n",
      " [ 0.00272412]\n",
      " [ 0.91448341]\n",
      " [ 0.70822657]\n",
      " [ 0.32621517]\n",
      " [ 0.70133437]\n",
      " [ 0.25924113]\n",
      " [ 0.00907448]\n",
      " [ 0.82280367]\n",
      " [ 0.99036514]\n",
      " [ 0.31491186]\n",
      " [ 0.95412177]\n",
      " [ 0.79189085]\n",
      " [ 0.10192908]\n",
      " [ 0.35882354]]\n",
      "variance = 0.0920011793787\n",
      "Standard Deviation = 0.303316961904\n"
     ]
    }
   ],
   "source": [
    "# Question 2\n",
    "\n",
    "X=np.random.rand(20,1)\n",
    "print(arr)\n",
    "\n",
    "Xbar=float(np.average(X))      #variance\n",
    "var=(X-Xbar)**2\n",
    "var=np.sum(var)/20\n",
    "print(\"variance = \" + str(var))\n",
    "\n",
    "sd=np.sqrt(var)                #standard deviation\n",
    "print(\"Standard Deviation = \" + str(sd))"
   ]
  },
  {
   "cell_type": "code",
   "execution_count": 43,
   "metadata": {},
   "outputs": [
    {
     "name": "stdout",
     "output_type": "stream",
     "text": [
      "(10, 25)\n",
      "Sum of elements is 1288.4622487\n"
     ]
    }
   ],
   "source": [
    "#Question 3\n",
    "\n",
    "A=np.random.rand(10,20)\n",
    "B=np.random.rand(20,25)\n",
    "\n",
    "A=np.dot(A,B)\n",
    "print(A.shape)\n",
    "\n",
    "print(\"Sum of elements is \" + str(np.sum(A)))"
   ]
  },
  {
   "cell_type": "code",
   "execution_count": 47,
   "metadata": {},
   "outputs": [
    {
     "name": "stdout",
     "output_type": "stream",
     "text": [
      "[[ 0.45449024]\n",
      " [ 0.15414545]\n",
      " [ 0.16124991]\n",
      " [ 0.34615184]\n",
      " [ 0.50496662]\n",
      " [ 0.76569366]\n",
      " [ 0.1208429 ]\n",
      " [ 0.17276938]\n",
      " [ 0.71300892]\n",
      " [ 0.95211648]]\n",
      "[[ 0.6117063 ]\n",
      " [ 0.53846024]\n",
      " [ 0.54022535]\n",
      " [ 0.5856841 ]\n",
      " [ 0.62362579]\n",
      " [ 0.68258861]\n",
      " [ 0.53017401]\n",
      " [ 0.54308523]\n",
      " [ 0.67106568]\n",
      " [ 0.72154062]]\n"
     ]
    }
   ],
   "source": [
    "#Question 4\n",
    "\n",
    "arr=np.random.rand(10,1)\n",
    "print(arr)\n",
    "\n",
    "b=-1\n",
    "arr=1/(1+np.exp(arr*b))\n",
    "print(arr)"
   ]
  },
  {
   "cell_type": "code",
   "execution_count": null,
   "metadata": {
    "collapsed": true
   },
   "outputs": [],
   "source": []
  }
 ],
 "metadata": {
  "kernelspec": {
   "display_name": "Python 3",
   "language": "python",
   "name": "python3"
  },
  "language_info": {
   "codemirror_mode": {
    "name": "ipython",
    "version": 3
   },
   "file_extension": ".py",
   "mimetype": "text/x-python",
   "name": "python",
   "nbconvert_exporter": "python",
   "pygments_lexer": "ipython3",
   "version": "3.6.0"
  }
 },
 "nbformat": 4,
 "nbformat_minor": 2
}
