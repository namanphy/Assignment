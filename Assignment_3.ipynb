{
 "cells": [
  {
   "cell_type": "code",
   "execution_count": 11,
   "metadata": {},
   "outputs": [
    {
     "name": "stdout",
     "output_type": "stream",
     "text": [
      "0.030303030303030297\n"
     ]
    }
   ],
   "source": [
    "#Question 1\n",
    "\n",
    "def prob(probA, probB, probAB):\n",
    "    probBA=(probAB/probA)*probB\n",
    "    return probBA\n",
    "print(prob(11/36,6/36,2/36))"
   ]
  },
  {
   "cell_type": "markdown",
   "metadata": {},
   "source": [
    "-------------------------------------------------------------------------------------\n",
    "#Question 2\n",
    "\n",
    "P(Bag1 was selected) = [(1/2)*(6/10)] / [{(1/2)*(6/10)} +{(1/2)/(3/7)}]\n",
    "                     = 2/3"
   ]
  },
  {
   "cell_type": "markdown",
   "metadata": {},
   "source": [
    "----------------------------------------------------------------------------------\n",
    "#Question 3\n",
    "\n",
    "P(actually a 4) = [(1/6)(2/3)] / [{(1/6)(2/3)} +{(5/6)/(1/3)}]\n",
    "                = 2/7"
   ]
  }
 ],
 "metadata": {
  "kernelspec": {
   "display_name": "Python 3",
   "language": "python",
   "name": "python3"
  },
  "language_info": {
   "codemirror_mode": {
    "name": "ipython",
    "version": 3
   },
   "file_extension": ".py",
   "mimetype": "text/x-python",
   "name": "python",
   "nbconvert_exporter": "python",
   "pygments_lexer": "ipython3",
   "version": "3.6.0"
  }
 },
 "nbformat": 4,
 "nbformat_minor": 2
}
