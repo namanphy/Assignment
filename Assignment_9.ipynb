{
  "nbformat": 4,
  "nbformat_minor": 0,
  "metadata": {
    "colab": {
      "name": "Assignment_9.ipynb",
      "version": "0.3.2",
      "views": {},
      "default_view": {},
      "provenance": []
    },
    "kernelspec": {
      "name": "python3",
      "display_name": "Python 3"
    },
    "accelerator": "GPU"
  },
  "cells": [
    {
      "metadata": {
        "id": "g8ra85jEUBOx",
        "colab_type": "code",
        "colab": {
          "autoexec": {
            "startup": false,
            "wait_interval": 0
          }
        }
      },
      "cell_type": "code",
      "source": [
        "import pandas as pd\n",
        "import numpy as np\n",
        "import re\n",
        "from sklearn.linear_model import LogisticRegression\n",
        "from sklearn.model_selection import train_test_split"
      ],
      "execution_count": 0,
      "outputs": []
    },
    {
      "metadata": {
        "id": "-n_tE5VyUebu",
        "colab_type": "code",
        "colab": {
          "autoexec": {
            "startup": false,
            "wait_interval": 0
          }
        }
      },
      "cell_type": "code",
      "source": [
        "df_train=pd.read_csv('https://raw.githubusercontent.com/Shreyas3108/Titanic-EDA-and-Survival-prediction/master/train.csv')\n",
        "df_test=pd.read_csv('https://raw.githubusercontent.com/Shreyas3108/Titanic-EDA-and-Survival-prediction/master/test.csv')\n",
        "df=pd.concat([df_train,df_test], ignore_index=True)"
      ],
      "execution_count": 0,
      "outputs": []
    },
    {
      "metadata": {
        "id": "wyKnnXXAbBpo",
        "colab_type": "code",
        "colab": {
          "autoexec": {
            "startup": false,
            "wait_interval": 0
          },
          "base_uri": "https://localhost:8080/",
          "height": 204
        },
        "outputId": "ae360632-5aa6-4e7b-b353-4b5ff464dc00",
        "executionInfo": {
          "status": "ok",
          "timestamp": 1528737339226,
          "user_tz": -330,
          "elapsed": 1847,
          "user": {
            "displayName": "naman bhardwaj",
            "photoUrl": "//lh5.googleusercontent.com/-lOfdMFCMasA/AAAAAAAAAAI/AAAAAAAAE2U/ePtzxwaE5ow/s50-c-k-no/photo.jpg",
            "userId": "106833748446108197788"
          }
        }
      },
      "cell_type": "code",
      "source": [
        "df.tail()"
      ],
      "execution_count": 24,
      "outputs": [
        {
          "output_type": "execute_result",
          "data": {
            "text/html": [
              "<div>\n",
              "<style scoped>\n",
              "    .dataframe tbody tr th:only-of-type {\n",
              "        vertical-align: middle;\n",
              "    }\n",
              "\n",
              "    .dataframe tbody tr th {\n",
              "        vertical-align: top;\n",
              "    }\n",
              "\n",
              "    .dataframe thead th {\n",
              "        text-align: right;\n",
              "    }\n",
              "</style>\n",
              "<table border=\"1\" class=\"dataframe\">\n",
              "  <thead>\n",
              "    <tr style=\"text-align: right;\">\n",
              "      <th></th>\n",
              "      <th>Age</th>\n",
              "      <th>Cabin</th>\n",
              "      <th>Embarked</th>\n",
              "      <th>Fare</th>\n",
              "      <th>Name</th>\n",
              "      <th>Parch</th>\n",
              "      <th>PassengerId</th>\n",
              "      <th>Pclass</th>\n",
              "      <th>Sex</th>\n",
              "      <th>SibSp</th>\n",
              "      <th>Survived</th>\n",
              "      <th>Ticket</th>\n",
              "    </tr>\n",
              "  </thead>\n",
              "  <tbody>\n",
              "    <tr>\n",
              "      <th>1304</th>\n",
              "      <td>NaN</td>\n",
              "      <td>NaN</td>\n",
              "      <td>S</td>\n",
              "      <td>8.0500</td>\n",
              "      <td>Spector, Mr. Woolf</td>\n",
              "      <td>0</td>\n",
              "      <td>1305</td>\n",
              "      <td>3</td>\n",
              "      <td>male</td>\n",
              "      <td>0</td>\n",
              "      <td>NaN</td>\n",
              "      <td>A.5. 3236</td>\n",
              "    </tr>\n",
              "    <tr>\n",
              "      <th>1305</th>\n",
              "      <td>39.0</td>\n",
              "      <td>C105</td>\n",
              "      <td>C</td>\n",
              "      <td>108.9000</td>\n",
              "      <td>Oliva y Ocana, Dona. Fermina</td>\n",
              "      <td>0</td>\n",
              "      <td>1306</td>\n",
              "      <td>1</td>\n",
              "      <td>female</td>\n",
              "      <td>0</td>\n",
              "      <td>NaN</td>\n",
              "      <td>PC 17758</td>\n",
              "    </tr>\n",
              "    <tr>\n",
              "      <th>1306</th>\n",
              "      <td>38.5</td>\n",
              "      <td>NaN</td>\n",
              "      <td>S</td>\n",
              "      <td>7.2500</td>\n",
              "      <td>Saether, Mr. Simon Sivertsen</td>\n",
              "      <td>0</td>\n",
              "      <td>1307</td>\n",
              "      <td>3</td>\n",
              "      <td>male</td>\n",
              "      <td>0</td>\n",
              "      <td>NaN</td>\n",
              "      <td>SOTON/O.Q. 3101262</td>\n",
              "    </tr>\n",
              "    <tr>\n",
              "      <th>1307</th>\n",
              "      <td>NaN</td>\n",
              "      <td>NaN</td>\n",
              "      <td>S</td>\n",
              "      <td>8.0500</td>\n",
              "      <td>Ware, Mr. Frederick</td>\n",
              "      <td>0</td>\n",
              "      <td>1308</td>\n",
              "      <td>3</td>\n",
              "      <td>male</td>\n",
              "      <td>0</td>\n",
              "      <td>NaN</td>\n",
              "      <td>359309</td>\n",
              "    </tr>\n",
              "    <tr>\n",
              "      <th>1308</th>\n",
              "      <td>NaN</td>\n",
              "      <td>NaN</td>\n",
              "      <td>C</td>\n",
              "      <td>22.3583</td>\n",
              "      <td>Peter, Master. Michael J</td>\n",
              "      <td>1</td>\n",
              "      <td>1309</td>\n",
              "      <td>3</td>\n",
              "      <td>male</td>\n",
              "      <td>1</td>\n",
              "      <td>NaN</td>\n",
              "      <td>2668</td>\n",
              "    </tr>\n",
              "  </tbody>\n",
              "</table>\n",
              "</div>"
            ],
            "text/plain": [
              "       Age Cabin Embarked      Fare                          Name  Parch  \\\n",
              "1304   NaN   NaN        S    8.0500            Spector, Mr. Woolf      0   \n",
              "1305  39.0  C105        C  108.9000  Oliva y Ocana, Dona. Fermina      0   \n",
              "1306  38.5   NaN        S    7.2500  Saether, Mr. Simon Sivertsen      0   \n",
              "1307   NaN   NaN        S    8.0500           Ware, Mr. Frederick      0   \n",
              "1308   NaN   NaN        C   22.3583      Peter, Master. Michael J      1   \n",
              "\n",
              "      PassengerId  Pclass     Sex  SibSp  Survived              Ticket  \n",
              "1304         1305       3    male      0       NaN           A.5. 3236  \n",
              "1305         1306       1  female      0       NaN            PC 17758  \n",
              "1306         1307       3    male      0       NaN  SOTON/O.Q. 3101262  \n",
              "1307         1308       3    male      0       NaN              359309  \n",
              "1308         1309       3    male      1       NaN                2668  "
            ]
          },
          "metadata": {
            "tags": []
          },
          "execution_count": 24
        }
      ]
    },
    {
      "metadata": {
        "id": "SJboNYXSwfeE",
        "colab_type": "code",
        "colab": {
          "autoexec": {
            "startup": false,
            "wait_interval": 0
          },
          "base_uri": "https://localhost:8080/",
          "height": 238
        },
        "outputId": "5627d4c0-a400-454d-e27a-4c1c1b40002b",
        "executionInfo": {
          "status": "ok",
          "timestamp": 1528737341169,
          "user_tz": -330,
          "elapsed": 1809,
          "user": {
            "displayName": "naman bhardwaj",
            "photoUrl": "//lh5.googleusercontent.com/-lOfdMFCMasA/AAAAAAAAAAI/AAAAAAAAE2U/ePtzxwaE5ow/s50-c-k-no/photo.jpg",
            "userId": "106833748446108197788"
          }
        }
      },
      "cell_type": "code",
      "source": [
        "df.isnull().sum()"
      ],
      "execution_count": 25,
      "outputs": [
        {
          "output_type": "execute_result",
          "data": {
            "text/plain": [
              "Age             263\n",
              "Cabin          1014\n",
              "Embarked          2\n",
              "Fare              1\n",
              "Name              0\n",
              "Parch             0\n",
              "PassengerId       0\n",
              "Pclass            0\n",
              "Sex               0\n",
              "SibSp             0\n",
              "Survived        418\n",
              "Ticket            0\n",
              "dtype: int64"
            ]
          },
          "metadata": {
            "tags": []
          },
          "execution_count": 25
        }
      ]
    },
    {
      "metadata": {
        "id": "AlLI6rWt99me",
        "colab_type": "text"
      },
      "cell_type": "markdown",
      "source": [
        "-----------------------"
      ]
    },
    {
      "metadata": {
        "id": "F9d4d69ybTd_",
        "colab_type": "code",
        "colab": {
          "autoexec": {
            "startup": false,
            "wait_interval": 0
          },
          "base_uri": "https://localhost:8080/",
          "height": 68
        },
        "outputId": "290e3635-51da-49fe-d7b6-f5448b2870a4",
        "executionInfo": {
          "status": "ok",
          "timestamp": 1528737342622,
          "user_tz": -330,
          "elapsed": 1336,
          "user": {
            "displayName": "naman bhardwaj",
            "photoUrl": "//lh5.googleusercontent.com/-lOfdMFCMasA/AAAAAAAAAAI/AAAAAAAAE2U/ePtzxwaE5ow/s50-c-k-no/photo.jpg",
            "userId": "106833748446108197788"
          }
        }
      },
      "cell_type": "code",
      "source": [
        "df['Survived'].value_counts()"
      ],
      "execution_count": 26,
      "outputs": [
        {
          "output_type": "execute_result",
          "data": {
            "text/plain": [
              "0.0    549\n",
              "1.0    342\n",
              "Name: Survived, dtype: int64"
            ]
          },
          "metadata": {
            "tags": []
          },
          "execution_count": 26
        }
      ]
    },
    {
      "metadata": {
        "id": "FTgbDCDRbbAw",
        "colab_type": "code",
        "colab": {
          "autoexec": {
            "startup": false,
            "wait_interval": 0
          }
        }
      },
      "cell_type": "code",
      "source": [
        "df=df.dropna(subset=['Survived'])"
      ],
      "execution_count": 0,
      "outputs": []
    },
    {
      "metadata": {
        "id": "EfkVN2pBwZ3i",
        "colab_type": "code",
        "colab": {
          "autoexec": {
            "startup": false,
            "wait_interval": 0
          },
          "base_uri": "https://localhost:8080/",
          "height": 68
        },
        "outputId": "60997402-37b8-4849-ff7d-902898c7c4a9",
        "executionInfo": {
          "status": "ok",
          "timestamp": 1528737345725,
          "user_tz": -330,
          "elapsed": 1727,
          "user": {
            "displayName": "naman bhardwaj",
            "photoUrl": "//lh5.googleusercontent.com/-lOfdMFCMasA/AAAAAAAAAAI/AAAAAAAAE2U/ePtzxwaE5ow/s50-c-k-no/photo.jpg",
            "userId": "106833748446108197788"
          }
        }
      },
      "cell_type": "code",
      "source": [
        "i=0\n",
        "df['Has_Cabin']=\"\"\n",
        "for x in df['Cabin'].isnull():\n",
        "  if x==True:\n",
        "    df.loc[i,'Has_Cabin']=0\n",
        "    #print(df.loc[i,'Has_Cabin'])\n",
        "  else:\n",
        "    df.loc[i,'Has_Cabin']=1\n",
        "    #print(df.loc[i,'Has_Cabin'])\n",
        "  i=i+1\n",
        "\n",
        "df['Has_Cabin'].value_counts()"
      ],
      "execution_count": 28,
      "outputs": [
        {
          "output_type": "execute_result",
          "data": {
            "text/plain": [
              "0    687\n",
              "1    204\n",
              "Name: Has_Cabin, dtype: int64"
            ]
          },
          "metadata": {
            "tags": []
          },
          "execution_count": 28
        }
      ]
    },
    {
      "metadata": {
        "id": "MjkrxEQ194jN",
        "colab_type": "text"
      },
      "cell_type": "markdown",
      "source": [
        "------------------------------------------------------------"
      ]
    },
    {
      "metadata": {
        "id": "U8is8HI2LQ33",
        "colab_type": "code",
        "colab": {
          "autoexec": {
            "startup": false,
            "wait_interval": 0
          },
          "base_uri": "https://localhost:8080/",
          "height": 323
        },
        "cellView": "code",
        "outputId": "5e5af76e-988f-47fb-f2df-49f0287cb46c",
        "executionInfo": {
          "status": "ok",
          "timestamp": 1528737347000,
          "user_tz": -330,
          "elapsed": 1157,
          "user": {
            "displayName": "naman bhardwaj",
            "photoUrl": "//lh5.googleusercontent.com/-lOfdMFCMasA/AAAAAAAAAAI/AAAAAAAAE2U/ePtzxwaE5ow/s50-c-k-no/photo.jpg",
            "userId": "106833748446108197788"
          }
        }
      },
      "cell_type": "code",
      "source": [
        "df['Title']=df['Name'].apply(lambda x: re.search('([A-Z][a-z]+)\\.', x))\n",
        "df['Title']=df['Title'].apply(lambda x: x.group())\n",
        "print(df['Title'].value_counts())"
      ],
      "execution_count": 29,
      "outputs": [
        {
          "output_type": "stream",
          "text": [
            "Mr.          517\n",
            "Miss.        182\n",
            "Mrs.         125\n",
            "Master.       40\n",
            "Dr.            7\n",
            "Rev.           6\n",
            "Col.           2\n",
            "Major.         2\n",
            "Mlle.          2\n",
            "Capt.          1\n",
            "Ms.            1\n",
            "Don.           1\n",
            "Sir.           1\n",
            "Countess.      1\n",
            "Lady.          1\n",
            "Jonkheer.      1\n",
            "Mme.           1\n",
            "Name: Title, dtype: int64\n"
          ],
          "name": "stdout"
        }
      ]
    },
    {
      "metadata": {
        "id": "P4ArtBnALXzc",
        "colab_type": "code",
        "colab": {
          "autoexec": {
            "startup": false,
            "wait_interval": 0
          }
        }
      },
      "cell_type": "code",
      "source": [
        "df['Title'] = df['Title'].replace(['Don.', 'Dona.', 'Rev.', 'Dr.', 'Major.', 'Lady.', 'Sir.', 'Col.', 'Capt.', 'Countess.', 'Jonkheer.','Mme.','Mlle.','Ms.'],'Special')"
      ],
      "execution_count": 0,
      "outputs": []
    },
    {
      "metadata": {
        "id": "TUuZM1OOLkXK",
        "colab_type": "code",
        "colab": {
          "autoexec": {
            "startup": false,
            "wait_interval": 0
          },
          "base_uri": "https://localhost:8080/",
          "height": 119
        },
        "outputId": "92e3bd4e-e14d-42d7-8ee6-914fc705f1bf",
        "executionInfo": {
          "status": "ok",
          "timestamp": 1528737350887,
          "user_tz": -330,
          "elapsed": 2518,
          "user": {
            "displayName": "naman bhardwaj",
            "photoUrl": "//lh5.googleusercontent.com/-lOfdMFCMasA/AAAAAAAAAAI/AAAAAAAAE2U/ePtzxwaE5ow/s50-c-k-no/photo.jpg",
            "userId": "106833748446108197788"
          }
        }
      },
      "cell_type": "code",
      "source": [
        "df['Title'].value_counts()"
      ],
      "execution_count": 31,
      "outputs": [
        {
          "output_type": "execute_result",
          "data": {
            "text/plain": [
              "Mr.        517\n",
              "Miss.      182\n",
              "Mrs.       125\n",
              "Master.     40\n",
              "Special     27\n",
              "Name: Title, dtype: int64"
            ]
          },
          "metadata": {
            "tags": []
          },
          "execution_count": 31
        }
      ]
    },
    {
      "metadata": {
        "id": "IVlNKp9kxWK4",
        "colab_type": "text"
      },
      "cell_type": "markdown",
      "source": [
        "----------------"
      ]
    },
    {
      "metadata": {
        "id": "Hb7da_qVxZKd",
        "colab_type": "code",
        "colab": {
          "autoexec": {
            "startup": false,
            "wait_interval": 0
          }
        }
      },
      "cell_type": "code",
      "source": [
        "df['Age']=df['Age'].fillna(df['Age'].median())"
      ],
      "execution_count": 0,
      "outputs": []
    },
    {
      "metadata": {
        "id": "5OZyRT_Wy0Il",
        "colab_type": "code",
        "colab": {
          "autoexec": {
            "startup": false,
            "wait_interval": 0
          },
          "base_uri": "https://localhost:8080/",
          "height": 85
        },
        "outputId": "e3f631df-2d8e-49b4-97f8-8dbb903ce840",
        "executionInfo": {
          "status": "ok",
          "timestamp": 1528737353820,
          "user_tz": -330,
          "elapsed": 1274,
          "user": {
            "displayName": "naman bhardwaj",
            "photoUrl": "//lh5.googleusercontent.com/-lOfdMFCMasA/AAAAAAAAAAI/AAAAAAAAE2U/ePtzxwaE5ow/s50-c-k-no/photo.jpg",
            "userId": "106833748446108197788"
          }
        }
      },
      "cell_type": "code",
      "source": [
        "df['Embarked'].value_counts()"
      ],
      "execution_count": 33,
      "outputs": [
        {
          "output_type": "execute_result",
          "data": {
            "text/plain": [
              "S    644\n",
              "C    168\n",
              "Q     77\n",
              "Name: Embarked, dtype: int64"
            ]
          },
          "metadata": {
            "tags": []
          },
          "execution_count": 33
        }
      ]
    },
    {
      "metadata": {
        "id": "tupSumL06Se3",
        "colab_type": "code",
        "colab": {
          "autoexec": {
            "startup": false,
            "wait_interval": 0
          }
        }
      },
      "cell_type": "code",
      "source": [
        "df['Embarked'] = df['Embarked'].fillna('S')"
      ],
      "execution_count": 0,
      "outputs": []
    },
    {
      "metadata": {
        "id": "iPTDG5sE5Dd6",
        "colab_type": "code",
        "colab": {
          "autoexec": {
            "startup": false,
            "wait_interval": 0
          },
          "base_uri": "https://localhost:8080/",
          "height": 238
        },
        "outputId": "84413c2a-1951-4f62-d287-b0eae14057e9",
        "executionInfo": {
          "status": "ok",
          "timestamp": 1528737356445,
          "user_tz": -330,
          "elapsed": 1234,
          "user": {
            "displayName": "naman bhardwaj",
            "photoUrl": "//lh5.googleusercontent.com/-lOfdMFCMasA/AAAAAAAAAAI/AAAAAAAAE2U/ePtzxwaE5ow/s50-c-k-no/photo.jpg",
            "userId": "106833748446108197788"
          }
        }
      },
      "cell_type": "code",
      "source": [
        "df.head()"
      ],
      "execution_count": 35,
      "outputs": [
        {
          "output_type": "execute_result",
          "data": {
            "text/html": [
              "<div>\n",
              "<style scoped>\n",
              "    .dataframe tbody tr th:only-of-type {\n",
              "        vertical-align: middle;\n",
              "    }\n",
              "\n",
              "    .dataframe tbody tr th {\n",
              "        vertical-align: top;\n",
              "    }\n",
              "\n",
              "    .dataframe thead th {\n",
              "        text-align: right;\n",
              "    }\n",
              "</style>\n",
              "<table border=\"1\" class=\"dataframe\">\n",
              "  <thead>\n",
              "    <tr style=\"text-align: right;\">\n",
              "      <th></th>\n",
              "      <th>Age</th>\n",
              "      <th>Cabin</th>\n",
              "      <th>Embarked</th>\n",
              "      <th>Fare</th>\n",
              "      <th>Name</th>\n",
              "      <th>Parch</th>\n",
              "      <th>PassengerId</th>\n",
              "      <th>Pclass</th>\n",
              "      <th>Sex</th>\n",
              "      <th>SibSp</th>\n",
              "      <th>Survived</th>\n",
              "      <th>Ticket</th>\n",
              "      <th>Has_Cabin</th>\n",
              "      <th>Title</th>\n",
              "    </tr>\n",
              "  </thead>\n",
              "  <tbody>\n",
              "    <tr>\n",
              "      <th>0</th>\n",
              "      <td>22.0</td>\n",
              "      <td>NaN</td>\n",
              "      <td>S</td>\n",
              "      <td>7.2500</td>\n",
              "      <td>Braund, Mr. Owen Harris</td>\n",
              "      <td>0</td>\n",
              "      <td>1</td>\n",
              "      <td>3</td>\n",
              "      <td>male</td>\n",
              "      <td>1</td>\n",
              "      <td>0.0</td>\n",
              "      <td>A/5 21171</td>\n",
              "      <td>0</td>\n",
              "      <td>Mr.</td>\n",
              "    </tr>\n",
              "    <tr>\n",
              "      <th>1</th>\n",
              "      <td>38.0</td>\n",
              "      <td>C85</td>\n",
              "      <td>C</td>\n",
              "      <td>71.2833</td>\n",
              "      <td>Cumings, Mrs. John Bradley (Florence Briggs Th...</td>\n",
              "      <td>0</td>\n",
              "      <td>2</td>\n",
              "      <td>1</td>\n",
              "      <td>female</td>\n",
              "      <td>1</td>\n",
              "      <td>1.0</td>\n",
              "      <td>PC 17599</td>\n",
              "      <td>1</td>\n",
              "      <td>Mrs.</td>\n",
              "    </tr>\n",
              "    <tr>\n",
              "      <th>2</th>\n",
              "      <td>26.0</td>\n",
              "      <td>NaN</td>\n",
              "      <td>S</td>\n",
              "      <td>7.9250</td>\n",
              "      <td>Heikkinen, Miss. Laina</td>\n",
              "      <td>0</td>\n",
              "      <td>3</td>\n",
              "      <td>3</td>\n",
              "      <td>female</td>\n",
              "      <td>0</td>\n",
              "      <td>1.0</td>\n",
              "      <td>STON/O2. 3101282</td>\n",
              "      <td>0</td>\n",
              "      <td>Miss.</td>\n",
              "    </tr>\n",
              "    <tr>\n",
              "      <th>3</th>\n",
              "      <td>35.0</td>\n",
              "      <td>C123</td>\n",
              "      <td>S</td>\n",
              "      <td>53.1000</td>\n",
              "      <td>Futrelle, Mrs. Jacques Heath (Lily May Peel)</td>\n",
              "      <td>0</td>\n",
              "      <td>4</td>\n",
              "      <td>1</td>\n",
              "      <td>female</td>\n",
              "      <td>1</td>\n",
              "      <td>1.0</td>\n",
              "      <td>113803</td>\n",
              "      <td>1</td>\n",
              "      <td>Mrs.</td>\n",
              "    </tr>\n",
              "    <tr>\n",
              "      <th>4</th>\n",
              "      <td>35.0</td>\n",
              "      <td>NaN</td>\n",
              "      <td>S</td>\n",
              "      <td>8.0500</td>\n",
              "      <td>Allen, Mr. William Henry</td>\n",
              "      <td>0</td>\n",
              "      <td>5</td>\n",
              "      <td>3</td>\n",
              "      <td>male</td>\n",
              "      <td>0</td>\n",
              "      <td>0.0</td>\n",
              "      <td>373450</td>\n",
              "      <td>0</td>\n",
              "      <td>Mr.</td>\n",
              "    </tr>\n",
              "  </tbody>\n",
              "</table>\n",
              "</div>"
            ],
            "text/plain": [
              "    Age Cabin Embarked     Fare  \\\n",
              "0  22.0   NaN        S   7.2500   \n",
              "1  38.0   C85        C  71.2833   \n",
              "2  26.0   NaN        S   7.9250   \n",
              "3  35.0  C123        S  53.1000   \n",
              "4  35.0   NaN        S   8.0500   \n",
              "\n",
              "                                                Name  Parch  PassengerId  \\\n",
              "0                            Braund, Mr. Owen Harris      0            1   \n",
              "1  Cumings, Mrs. John Bradley (Florence Briggs Th...      0            2   \n",
              "2                             Heikkinen, Miss. Laina      0            3   \n",
              "3       Futrelle, Mrs. Jacques Heath (Lily May Peel)      0            4   \n",
              "4                           Allen, Mr. William Henry      0            5   \n",
              "\n",
              "   Pclass     Sex  SibSp  Survived            Ticket  Has_Cabin  Title  \n",
              "0       3    male      1       0.0         A/5 21171          0    Mr.  \n",
              "1       1  female      1       1.0          PC 17599          1   Mrs.  \n",
              "2       3  female      0       1.0  STON/O2. 3101282          0  Miss.  \n",
              "3       1  female      1       1.0            113803          1   Mrs.  \n",
              "4       3    male      0       0.0            373450          0    Mr.  "
            ]
          },
          "metadata": {
            "tags": []
          },
          "execution_count": 35
        }
      ]
    },
    {
      "metadata": {
        "id": "9xkhYpam5W1H",
        "colab_type": "text"
      },
      "cell_type": "markdown",
      "source": [
        "---------------"
      ]
    },
    {
      "metadata": {
        "id": "ueZUv-ig5Y1W",
        "colab_type": "code",
        "colab": {
          "autoexec": {
            "startup": false,
            "wait_interval": 0
          }
        }
      },
      "cell_type": "code",
      "source": [
        "df['Categorical_age'] = pd.qcut(df.Age, q=4, labels=False )\n",
        "df['Categorical_fare']= pd.qcut(df.Fare, q=4, labels=False)"
      ],
      "execution_count": 0,
      "outputs": []
    },
    {
      "metadata": {
        "id": "MWZpbj37HRST",
        "colab_type": "code",
        "colab": {
          "autoexec": {
            "startup": false,
            "wait_interval": 0
          }
        }
      },
      "cell_type": "code",
      "source": [
        "df.drop(['Cabin','Name','PassengerId','Ticket','Age','Fare','SibSp','Parch'],axis=1,inplace=True)"
      ],
      "execution_count": 0,
      "outputs": []
    },
    {
      "metadata": {
        "id": "tfJO8WgsItRd",
        "colab_type": "code",
        "colab": {
          "autoexec": {
            "startup": false,
            "wait_interval": 0
          },
          "base_uri": "https://localhost:8080/",
          "height": 204
        },
        "outputId": "474d2eb6-3f91-4a63-da42-b7e31b44f826",
        "executionInfo": {
          "status": "ok",
          "timestamp": 1528737360325,
          "user_tz": -330,
          "elapsed": 1178,
          "user": {
            "displayName": "naman bhardwaj",
            "photoUrl": "//lh5.googleusercontent.com/-lOfdMFCMasA/AAAAAAAAAAI/AAAAAAAAE2U/ePtzxwaE5ow/s50-c-k-no/photo.jpg",
            "userId": "106833748446108197788"
          }
        }
      },
      "cell_type": "code",
      "source": [
        "df.head()"
      ],
      "execution_count": 38,
      "outputs": [
        {
          "output_type": "execute_result",
          "data": {
            "text/html": [
              "<div>\n",
              "<style scoped>\n",
              "    .dataframe tbody tr th:only-of-type {\n",
              "        vertical-align: middle;\n",
              "    }\n",
              "\n",
              "    .dataframe tbody tr th {\n",
              "        vertical-align: top;\n",
              "    }\n",
              "\n",
              "    .dataframe thead th {\n",
              "        text-align: right;\n",
              "    }\n",
              "</style>\n",
              "<table border=\"1\" class=\"dataframe\">\n",
              "  <thead>\n",
              "    <tr style=\"text-align: right;\">\n",
              "      <th></th>\n",
              "      <th>Embarked</th>\n",
              "      <th>Pclass</th>\n",
              "      <th>Sex</th>\n",
              "      <th>Survived</th>\n",
              "      <th>Has_Cabin</th>\n",
              "      <th>Title</th>\n",
              "      <th>Categorical_age</th>\n",
              "      <th>Categorical_fare</th>\n",
              "    </tr>\n",
              "  </thead>\n",
              "  <tbody>\n",
              "    <tr>\n",
              "      <th>0</th>\n",
              "      <td>S</td>\n",
              "      <td>3</td>\n",
              "      <td>male</td>\n",
              "      <td>0.0</td>\n",
              "      <td>0</td>\n",
              "      <td>Mr.</td>\n",
              "      <td>0</td>\n",
              "      <td>0</td>\n",
              "    </tr>\n",
              "    <tr>\n",
              "      <th>1</th>\n",
              "      <td>C</td>\n",
              "      <td>1</td>\n",
              "      <td>female</td>\n",
              "      <td>1.0</td>\n",
              "      <td>1</td>\n",
              "      <td>Mrs.</td>\n",
              "      <td>3</td>\n",
              "      <td>3</td>\n",
              "    </tr>\n",
              "    <tr>\n",
              "      <th>2</th>\n",
              "      <td>S</td>\n",
              "      <td>3</td>\n",
              "      <td>female</td>\n",
              "      <td>1.0</td>\n",
              "      <td>0</td>\n",
              "      <td>Miss.</td>\n",
              "      <td>1</td>\n",
              "      <td>1</td>\n",
              "    </tr>\n",
              "    <tr>\n",
              "      <th>3</th>\n",
              "      <td>S</td>\n",
              "      <td>1</td>\n",
              "      <td>female</td>\n",
              "      <td>1.0</td>\n",
              "      <td>1</td>\n",
              "      <td>Mrs.</td>\n",
              "      <td>2</td>\n",
              "      <td>3</td>\n",
              "    </tr>\n",
              "    <tr>\n",
              "      <th>4</th>\n",
              "      <td>S</td>\n",
              "      <td>3</td>\n",
              "      <td>male</td>\n",
              "      <td>0.0</td>\n",
              "      <td>0</td>\n",
              "      <td>Mr.</td>\n",
              "      <td>2</td>\n",
              "      <td>1</td>\n",
              "    </tr>\n",
              "  </tbody>\n",
              "</table>\n",
              "</div>"
            ],
            "text/plain": [
              "  Embarked  Pclass     Sex  Survived  Has_Cabin  Title  Categorical_age  \\\n",
              "0        S       3    male       0.0          0    Mr.                0   \n",
              "1        C       1  female       1.0          1   Mrs.                3   \n",
              "2        S       3  female       1.0          0  Miss.                1   \n",
              "3        S       1  female       1.0          1   Mrs.                2   \n",
              "4        S       3    male       0.0          0    Mr.                2   \n",
              "\n",
              "   Categorical_fare  \n",
              "0                 0  \n",
              "1                 3  \n",
              "2                 1  \n",
              "3                 3  \n",
              "4                 1  "
            ]
          },
          "metadata": {
            "tags": []
          },
          "execution_count": 38
        }
      ]
    },
    {
      "metadata": {
        "id": "-mDUyZYu1O3I",
        "colab_type": "text"
      },
      "cell_type": "markdown",
      "source": [
        "-------"
      ]
    },
    {
      "metadata": {
        "id": "7zD5pz7g1Q16",
        "colab_type": "code",
        "colab": {
          "autoexec": {
            "startup": false,
            "wait_interval": 0
          },
          "base_uri": "https://localhost:8080/",
          "height": 224
        },
        "outputId": "15e0310c-e856-483a-b7a2-30e1e7f21ee9",
        "executionInfo": {
          "status": "ok",
          "timestamp": 1528737362076,
          "user_tz": -330,
          "elapsed": 1627,
          "user": {
            "displayName": "naman bhardwaj",
            "photoUrl": "//lh5.googleusercontent.com/-lOfdMFCMasA/AAAAAAAAAAI/AAAAAAAAE2U/ePtzxwaE5ow/s50-c-k-no/photo.jpg",
            "userId": "106833748446108197788"
          }
        }
      },
      "cell_type": "code",
      "source": [
        "#One-Hot Encoding\n",
        "\n",
        "df = pd.get_dummies(df)\n",
        "df.head()"
      ],
      "execution_count": 39,
      "outputs": [
        {
          "output_type": "execute_result",
          "data": {
            "text/html": [
              "<div>\n",
              "<style scoped>\n",
              "    .dataframe tbody tr th:only-of-type {\n",
              "        vertical-align: middle;\n",
              "    }\n",
              "\n",
              "    .dataframe tbody tr th {\n",
              "        vertical-align: top;\n",
              "    }\n",
              "\n",
              "    .dataframe thead th {\n",
              "        text-align: right;\n",
              "    }\n",
              "</style>\n",
              "<table border=\"1\" class=\"dataframe\">\n",
              "  <thead>\n",
              "    <tr style=\"text-align: right;\">\n",
              "      <th></th>\n",
              "      <th>Pclass</th>\n",
              "      <th>Survived</th>\n",
              "      <th>Has_Cabin</th>\n",
              "      <th>Categorical_age</th>\n",
              "      <th>Categorical_fare</th>\n",
              "      <th>Embarked_C</th>\n",
              "      <th>Embarked_Q</th>\n",
              "      <th>Embarked_S</th>\n",
              "      <th>Sex_female</th>\n",
              "      <th>Sex_male</th>\n",
              "      <th>Title_Master.</th>\n",
              "      <th>Title_Miss.</th>\n",
              "      <th>Title_Mr.</th>\n",
              "      <th>Title_Mrs.</th>\n",
              "      <th>Title_Special</th>\n",
              "    </tr>\n",
              "  </thead>\n",
              "  <tbody>\n",
              "    <tr>\n",
              "      <th>0</th>\n",
              "      <td>3</td>\n",
              "      <td>0.0</td>\n",
              "      <td>0</td>\n",
              "      <td>0</td>\n",
              "      <td>0</td>\n",
              "      <td>0</td>\n",
              "      <td>0</td>\n",
              "      <td>1</td>\n",
              "      <td>0</td>\n",
              "      <td>1</td>\n",
              "      <td>0</td>\n",
              "      <td>0</td>\n",
              "      <td>1</td>\n",
              "      <td>0</td>\n",
              "      <td>0</td>\n",
              "    </tr>\n",
              "    <tr>\n",
              "      <th>1</th>\n",
              "      <td>1</td>\n",
              "      <td>1.0</td>\n",
              "      <td>1</td>\n",
              "      <td>3</td>\n",
              "      <td>3</td>\n",
              "      <td>1</td>\n",
              "      <td>0</td>\n",
              "      <td>0</td>\n",
              "      <td>1</td>\n",
              "      <td>0</td>\n",
              "      <td>0</td>\n",
              "      <td>0</td>\n",
              "      <td>0</td>\n",
              "      <td>1</td>\n",
              "      <td>0</td>\n",
              "    </tr>\n",
              "    <tr>\n",
              "      <th>2</th>\n",
              "      <td>3</td>\n",
              "      <td>1.0</td>\n",
              "      <td>0</td>\n",
              "      <td>1</td>\n",
              "      <td>1</td>\n",
              "      <td>0</td>\n",
              "      <td>0</td>\n",
              "      <td>1</td>\n",
              "      <td>1</td>\n",
              "      <td>0</td>\n",
              "      <td>0</td>\n",
              "      <td>1</td>\n",
              "      <td>0</td>\n",
              "      <td>0</td>\n",
              "      <td>0</td>\n",
              "    </tr>\n",
              "    <tr>\n",
              "      <th>3</th>\n",
              "      <td>1</td>\n",
              "      <td>1.0</td>\n",
              "      <td>1</td>\n",
              "      <td>2</td>\n",
              "      <td>3</td>\n",
              "      <td>0</td>\n",
              "      <td>0</td>\n",
              "      <td>1</td>\n",
              "      <td>1</td>\n",
              "      <td>0</td>\n",
              "      <td>0</td>\n",
              "      <td>0</td>\n",
              "      <td>0</td>\n",
              "      <td>1</td>\n",
              "      <td>0</td>\n",
              "    </tr>\n",
              "    <tr>\n",
              "      <th>4</th>\n",
              "      <td>3</td>\n",
              "      <td>0.0</td>\n",
              "      <td>0</td>\n",
              "      <td>2</td>\n",
              "      <td>1</td>\n",
              "      <td>0</td>\n",
              "      <td>0</td>\n",
              "      <td>1</td>\n",
              "      <td>0</td>\n",
              "      <td>1</td>\n",
              "      <td>0</td>\n",
              "      <td>0</td>\n",
              "      <td>1</td>\n",
              "      <td>0</td>\n",
              "      <td>0</td>\n",
              "    </tr>\n",
              "  </tbody>\n",
              "</table>\n",
              "</div>"
            ],
            "text/plain": [
              "   Pclass  Survived  Has_Cabin  Categorical_age  Categorical_fare  Embarked_C  \\\n",
              "0       3       0.0          0                0                 0           0   \n",
              "1       1       1.0          1                3                 3           1   \n",
              "2       3       1.0          0                1                 1           0   \n",
              "3       1       1.0          1                2                 3           0   \n",
              "4       3       0.0          0                2                 1           0   \n",
              "\n",
              "   Embarked_Q  Embarked_S  Sex_female  Sex_male  Title_Master.  Title_Miss.  \\\n",
              "0           0           1           0         1              0            0   \n",
              "1           0           0           1         0              0            0   \n",
              "2           0           1           1         0              0            1   \n",
              "3           0           1           1         0              0            0   \n",
              "4           0           1           0         1              0            0   \n",
              "\n",
              "   Title_Mr.  Title_Mrs.  Title_Special  \n",
              "0          1           0              0  \n",
              "1          0           1              0  \n",
              "2          0           0              0  \n",
              "3          0           1              0  \n",
              "4          1           0              0  "
            ]
          },
          "metadata": {
            "tags": []
          },
          "execution_count": 39
        }
      ]
    },
    {
      "metadata": {
        "id": "WgFaE8WoAmVQ",
        "colab_type": "text"
      },
      "cell_type": "markdown",
      "source": [
        "-----"
      ]
    },
    {
      "metadata": {
        "id": "0Orr-yMDAUvN",
        "colab_type": "code",
        "colab": {
          "autoexec": {
            "startup": false,
            "wait_interval": 0
          }
        }
      },
      "cell_type": "code",
      "source": [
        "x = df.drop(['Survived'], axis = 1)\n",
        "y = df['Survived']"
      ],
      "execution_count": 0,
      "outputs": []
    },
    {
      "metadata": {
        "id": "jS1c5a7OAnrc",
        "colab_type": "code",
        "colab": {
          "autoexec": {
            "startup": false,
            "wait_interval": 0
          }
        }
      },
      "cell_type": "code",
      "source": [
        "from sklearn.model_selection import train_test_split\n",
        "x_train, x_test, y_train, y_test = train_test_split(x, y, test_size = 0.3)"
      ],
      "execution_count": 0,
      "outputs": []
    },
    {
      "metadata": {
        "id": "7FsusMkoA-IR",
        "colab_type": "code",
        "colab": {
          "autoexec": {
            "startup": false,
            "wait_interval": 0
          }
        }
      },
      "cell_type": "code",
      "source": [
        "model = LogisticRegression()"
      ],
      "execution_count": 0,
      "outputs": []
    },
    {
      "metadata": {
        "id": "mUMl_pV9BZZC",
        "colab_type": "code",
        "colab": {
          "autoexec": {
            "startup": false,
            "wait_interval": 0
          },
          "base_uri": "https://localhost:8080/",
          "height": 85
        },
        "outputId": "900e4551-900c-4e8e-f27f-c5d946578f62",
        "executionInfo": {
          "status": "ok",
          "timestamp": 1528740298393,
          "user_tz": -330,
          "elapsed": 1240,
          "user": {
            "displayName": "naman bhardwaj",
            "photoUrl": "//lh5.googleusercontent.com/-lOfdMFCMasA/AAAAAAAAAAI/AAAAAAAAE2U/ePtzxwaE5ow/s50-c-k-no/photo.jpg",
            "userId": "106833748446108197788"
          }
        }
      },
      "cell_type": "code",
      "source": [
        "model.fit(x_train, y_train)"
      ],
      "execution_count": 52,
      "outputs": [
        {
          "output_type": "execute_result",
          "data": {
            "text/plain": [
              "LogisticRegression(C=1.0, class_weight=None, dual=False, fit_intercept=True,\n",
              "          intercept_scaling=1, max_iter=100, multi_class='ovr', n_jobs=1,\n",
              "          penalty='l2', random_state=None, solver='liblinear', tol=0.0001,\n",
              "          verbose=0, warm_start=False)"
            ]
          },
          "metadata": {
            "tags": []
          },
          "execution_count": 52
        }
      ]
    },
    {
      "metadata": {
        "id": "nsbYpoUhBeZm",
        "colab_type": "code",
        "colab": {
          "autoexec": {
            "startup": false,
            "wait_interval": 0
          }
        }
      },
      "cell_type": "code",
      "source": [
        "predict = model.predict(x_test)"
      ],
      "execution_count": 0,
      "outputs": []
    },
    {
      "metadata": {
        "id": "gCNtQFAZBi5a",
        "colab_type": "code",
        "colab": {
          "autoexec": {
            "startup": false,
            "wait_interval": 0
          },
          "base_uri": "https://localhost:8080/",
          "height": 34
        },
        "outputId": "31dbeff3-d6d0-41b0-e3bc-ae5a49d9a92a",
        "executionInfo": {
          "status": "ok",
          "timestamp": 1528740344986,
          "user_tz": -330,
          "elapsed": 1373,
          "user": {
            "displayName": "naman bhardwaj",
            "photoUrl": "//lh5.googleusercontent.com/-lOfdMFCMasA/AAAAAAAAAAI/AAAAAAAAE2U/ePtzxwaE5ow/s50-c-k-no/photo.jpg",
            "userId": "106833748446108197788"
          }
        }
      },
      "cell_type": "code",
      "source": [
        "accuracy_score = model.score(x_test, y_test)\n",
        "print(\"The accuracy score is : {}\".format(accuracy_score))"
      ],
      "execution_count": 55,
      "outputs": [
        {
          "output_type": "stream",
          "text": [
            "The accuracy score is : 0.8283582089552238\n"
          ],
          "name": "stdout"
        }
      ]
    }
  ]
}