{
  "nbformat": 4,
  "nbformat_minor": 0,
  "metadata": {
    "colab": {
      "name": "Assignment_12.ipynb",
      "version": "0.3.2",
      "views": {},
      "default_view": {},
      "provenance": [],
      "collapsed_sections": []
    },
    "kernelspec": {
      "name": "python3",
      "display_name": "Python 3"
    }
  },
  "cells": [
    {
      "metadata": {
        "id": "F_yWLBifDSEV",
        "colab_type": "code",
        "colab": {
          "autoexec": {
            "startup": false,
            "wait_interval": 0
          }
        }
      },
      "cell_type": "code",
      "source": [
        "import pandas as pd\n",
        "import numpy as np\n",
        "import matplotlib.pyplot as plt\n",
        "from sklearn import datasets"
      ],
      "execution_count": 0,
      "outputs": []
    },
    {
      "metadata": {
        "id": "JfitwyvFKOvb",
        "colab_type": "code",
        "colab": {
          "autoexec": {
            "startup": false,
            "wait_interval": 0
          }
        }
      },
      "cell_type": "code",
      "source": [
        "df=datasets.load_digits()"
      ],
      "execution_count": 0,
      "outputs": []
    },
    {
      "metadata": {
        "id": "xcA4TATgKXqy",
        "colab_type": "code",
        "colab": {
          "autoexec": {
            "startup": false,
            "wait_interval": 0
          },
          "base_uri": "https://localhost:8080/",
          "height": 267
        },
        "outputId": "2d00408c-05cf-45be-ab11-d7c98ad141fa",
        "executionInfo": {
          "status": "ok",
          "timestamp": 1528826535335,
          "user_tz": -330,
          "elapsed": 1076,
          "user": {
            "displayName": "naman bhardwaj",
            "photoUrl": "//lh5.googleusercontent.com/-lOfdMFCMasA/AAAAAAAAAAI/AAAAAAAAE2U/ePtzxwaE5ow/s50-c-k-no/photo.jpg",
            "userId": "106833748446108197788"
          }
        }
      },
      "cell_type": "code",
      "source": [
        "x = pd.DataFrame(np.array(df.data))\n",
        "y = pd.DataFrame(df.target)\n",
        "print(\"shape of X : \", x.shape)\n",
        "print(\"shape of Y : \",y.shape)\n",
        "x.head()"
      ],
      "execution_count": 3,
      "outputs": [
        {
          "output_type": "stream",
          "text": [
            "shape of X :  (1797, 64)\n",
            "shape of Y :  (1797, 1)\n"
          ],
          "name": "stdout"
        },
        {
          "output_type": "execute_result",
          "data": {
            "text/html": [
              "<div>\n",
              "<style scoped>\n",
              "    .dataframe tbody tr th:only-of-type {\n",
              "        vertical-align: middle;\n",
              "    }\n",
              "\n",
              "    .dataframe tbody tr th {\n",
              "        vertical-align: top;\n",
              "    }\n",
              "\n",
              "    .dataframe thead th {\n",
              "        text-align: right;\n",
              "    }\n",
              "</style>\n",
              "<table border=\"1\" class=\"dataframe\">\n",
              "  <thead>\n",
              "    <tr style=\"text-align: right;\">\n",
              "      <th></th>\n",
              "      <th>0</th>\n",
              "      <th>1</th>\n",
              "      <th>2</th>\n",
              "      <th>3</th>\n",
              "      <th>4</th>\n",
              "      <th>5</th>\n",
              "      <th>6</th>\n",
              "      <th>7</th>\n",
              "      <th>8</th>\n",
              "      <th>9</th>\n",
              "      <th>...</th>\n",
              "      <th>54</th>\n",
              "      <th>55</th>\n",
              "      <th>56</th>\n",
              "      <th>57</th>\n",
              "      <th>58</th>\n",
              "      <th>59</th>\n",
              "      <th>60</th>\n",
              "      <th>61</th>\n",
              "      <th>62</th>\n",
              "      <th>63</th>\n",
              "    </tr>\n",
              "  </thead>\n",
              "  <tbody>\n",
              "    <tr>\n",
              "      <th>0</th>\n",
              "      <td>0.0</td>\n",
              "      <td>0.0</td>\n",
              "      <td>5.0</td>\n",
              "      <td>13.0</td>\n",
              "      <td>9.0</td>\n",
              "      <td>1.0</td>\n",
              "      <td>0.0</td>\n",
              "      <td>0.0</td>\n",
              "      <td>0.0</td>\n",
              "      <td>0.0</td>\n",
              "      <td>...</td>\n",
              "      <td>0.0</td>\n",
              "      <td>0.0</td>\n",
              "      <td>0.0</td>\n",
              "      <td>0.0</td>\n",
              "      <td>6.0</td>\n",
              "      <td>13.0</td>\n",
              "      <td>10.0</td>\n",
              "      <td>0.0</td>\n",
              "      <td>0.0</td>\n",
              "      <td>0.0</td>\n",
              "    </tr>\n",
              "    <tr>\n",
              "      <th>1</th>\n",
              "      <td>0.0</td>\n",
              "      <td>0.0</td>\n",
              "      <td>0.0</td>\n",
              "      <td>12.0</td>\n",
              "      <td>13.0</td>\n",
              "      <td>5.0</td>\n",
              "      <td>0.0</td>\n",
              "      <td>0.0</td>\n",
              "      <td>0.0</td>\n",
              "      <td>0.0</td>\n",
              "      <td>...</td>\n",
              "      <td>0.0</td>\n",
              "      <td>0.0</td>\n",
              "      <td>0.0</td>\n",
              "      <td>0.0</td>\n",
              "      <td>0.0</td>\n",
              "      <td>11.0</td>\n",
              "      <td>16.0</td>\n",
              "      <td>10.0</td>\n",
              "      <td>0.0</td>\n",
              "      <td>0.0</td>\n",
              "    </tr>\n",
              "    <tr>\n",
              "      <th>2</th>\n",
              "      <td>0.0</td>\n",
              "      <td>0.0</td>\n",
              "      <td>0.0</td>\n",
              "      <td>4.0</td>\n",
              "      <td>15.0</td>\n",
              "      <td>12.0</td>\n",
              "      <td>0.0</td>\n",
              "      <td>0.0</td>\n",
              "      <td>0.0</td>\n",
              "      <td>0.0</td>\n",
              "      <td>...</td>\n",
              "      <td>5.0</td>\n",
              "      <td>0.0</td>\n",
              "      <td>0.0</td>\n",
              "      <td>0.0</td>\n",
              "      <td>0.0</td>\n",
              "      <td>3.0</td>\n",
              "      <td>11.0</td>\n",
              "      <td>16.0</td>\n",
              "      <td>9.0</td>\n",
              "      <td>0.0</td>\n",
              "    </tr>\n",
              "    <tr>\n",
              "      <th>3</th>\n",
              "      <td>0.0</td>\n",
              "      <td>0.0</td>\n",
              "      <td>7.0</td>\n",
              "      <td>15.0</td>\n",
              "      <td>13.0</td>\n",
              "      <td>1.0</td>\n",
              "      <td>0.0</td>\n",
              "      <td>0.0</td>\n",
              "      <td>0.0</td>\n",
              "      <td>8.0</td>\n",
              "      <td>...</td>\n",
              "      <td>9.0</td>\n",
              "      <td>0.0</td>\n",
              "      <td>0.0</td>\n",
              "      <td>0.0</td>\n",
              "      <td>7.0</td>\n",
              "      <td>13.0</td>\n",
              "      <td>13.0</td>\n",
              "      <td>9.0</td>\n",
              "      <td>0.0</td>\n",
              "      <td>0.0</td>\n",
              "    </tr>\n",
              "    <tr>\n",
              "      <th>4</th>\n",
              "      <td>0.0</td>\n",
              "      <td>0.0</td>\n",
              "      <td>0.0</td>\n",
              "      <td>1.0</td>\n",
              "      <td>11.0</td>\n",
              "      <td>0.0</td>\n",
              "      <td>0.0</td>\n",
              "      <td>0.0</td>\n",
              "      <td>0.0</td>\n",
              "      <td>0.0</td>\n",
              "      <td>...</td>\n",
              "      <td>0.0</td>\n",
              "      <td>0.0</td>\n",
              "      <td>0.0</td>\n",
              "      <td>0.0</td>\n",
              "      <td>0.0</td>\n",
              "      <td>2.0</td>\n",
              "      <td>16.0</td>\n",
              "      <td>4.0</td>\n",
              "      <td>0.0</td>\n",
              "      <td>0.0</td>\n",
              "    </tr>\n",
              "  </tbody>\n",
              "</table>\n",
              "<p>5 rows × 64 columns</p>\n",
              "</div>"
            ],
            "text/plain": [
              "    0    1    2     3     4     5    6    7    8    9  ...    54   55   56  \\\n",
              "0  0.0  0.0  5.0  13.0   9.0   1.0  0.0  0.0  0.0  0.0 ...   0.0  0.0  0.0   \n",
              "1  0.0  0.0  0.0  12.0  13.0   5.0  0.0  0.0  0.0  0.0 ...   0.0  0.0  0.0   \n",
              "2  0.0  0.0  0.0   4.0  15.0  12.0  0.0  0.0  0.0  0.0 ...   5.0  0.0  0.0   \n",
              "3  0.0  0.0  7.0  15.0  13.0   1.0  0.0  0.0  0.0  8.0 ...   9.0  0.0  0.0   \n",
              "4  0.0  0.0  0.0   1.0  11.0   0.0  0.0  0.0  0.0  0.0 ...   0.0  0.0  0.0   \n",
              "\n",
              "    57   58    59    60    61   62   63  \n",
              "0  0.0  6.0  13.0  10.0   0.0  0.0  0.0  \n",
              "1  0.0  0.0  11.0  16.0  10.0  0.0  0.0  \n",
              "2  0.0  0.0   3.0  11.0  16.0  9.0  0.0  \n",
              "3  0.0  7.0  13.0  13.0   9.0  0.0  0.0  \n",
              "4  0.0  0.0   2.0  16.0   4.0  0.0  0.0  \n",
              "\n",
              "[5 rows x 64 columns]"
            ]
          },
          "metadata": {
            "tags": []
          },
          "execution_count": 3
        }
      ]
    },
    {
      "metadata": {
        "id": "RcqLS03FKeBB",
        "colab_type": "code",
        "colab": {
          "autoexec": {
            "startup": false,
            "wait_interval": 0
          }
        }
      },
      "cell_type": "code",
      "source": [
        "from sklearn.model_selection import train_test_split\n",
        "x_train, x_test, y_train, y_test = train_test_split(x, y, test_size=0.25)"
      ],
      "execution_count": 0,
      "outputs": []
    },
    {
      "metadata": {
        "id": "SuICENYbNuqL",
        "colab_type": "text"
      },
      "cell_type": "markdown",
      "source": [
        "**Linear SVM**"
      ]
    },
    {
      "metadata": {
        "id": "EFSOSKpqMc8I",
        "colab_type": "code",
        "colab": {
          "autoexec": {
            "startup": false,
            "wait_interval": 0
          },
          "base_uri": "https://localhost:8080/",
          "height": 139
        },
        "outputId": "7c6b4d11-b451-415d-c08f-1de625787fcc",
        "executionInfo": {
          "status": "ok",
          "timestamp": 1528827200334,
          "user_tz": -330,
          "elapsed": 1025,
          "user": {
            "displayName": "naman bhardwaj",
            "photoUrl": "//lh5.googleusercontent.com/-lOfdMFCMasA/AAAAAAAAAAI/AAAAAAAAE2U/ePtzxwaE5ow/s50-c-k-no/photo.jpg",
            "userId": "106833748446108197788"
          }
        }
      },
      "cell_type": "code",
      "source": [
        "from sklearn.svm import SVC\n",
        "model=SVC(kernel='linear')\n",
        "model.fit(x_train,y_train)"
      ],
      "execution_count": 5,
      "outputs": [
        {
          "output_type": "stream",
          "text": [
            "/usr/local/lib/python3.6/dist-packages/sklearn/utils/validation.py:578: DataConversionWarning: A column-vector y was passed when a 1d array was expected. Please change the shape of y to (n_samples, ), for example using ravel().\n",
            "  y = column_or_1d(y, warn=True)\n"
          ],
          "name": "stderr"
        },
        {
          "output_type": "execute_result",
          "data": {
            "text/plain": [
              "SVC(C=1.0, cache_size=200, class_weight=None, coef0=0.0,\n",
              "  decision_function_shape='ovr', degree=3, gamma='auto', kernel='linear',\n",
              "  max_iter=-1, probability=False, random_state=None, shrinking=True,\n",
              "  tol=0.001, verbose=False)"
            ]
          },
          "metadata": {
            "tags": []
          },
          "execution_count": 5
        }
      ]
    },
    {
      "metadata": {
        "id": "mzqWOAMvM-ae",
        "colab_type": "code",
        "colab": {
          "autoexec": {
            "startup": false,
            "wait_interval": 0
          }
        }
      },
      "cell_type": "code",
      "source": [
        "y_pred=model.predict(x_test)"
      ],
      "execution_count": 0,
      "outputs": []
    },
    {
      "metadata": {
        "id": "5aq85GneNIk6",
        "colab_type": "code",
        "colab": {
          "autoexec": {
            "startup": false,
            "wait_interval": 0
          },
          "base_uri": "https://localhost:8080/",
          "height": 187
        },
        "outputId": "0b27a21a-51e1-443a-ea68-858ee085c077",
        "executionInfo": {
          "status": "ok",
          "timestamp": 1528827530576,
          "user_tz": -330,
          "elapsed": 1311,
          "user": {
            "displayName": "naman bhardwaj",
            "photoUrl": "//lh5.googleusercontent.com/-lOfdMFCMasA/AAAAAAAAAAI/AAAAAAAAE2U/ePtzxwaE5ow/s50-c-k-no/photo.jpg",
            "userId": "106833748446108197788"
          }
        }
      },
      "cell_type": "code",
      "source": [
        "from sklearn.metrics import confusion_matrix,classification_report\n",
        "print(confusion_matrix(y_test,y_pred))"
      ],
      "execution_count": 12,
      "outputs": [
        {
          "output_type": "stream",
          "text": [
            "[[43  0  0  0  0  0  0  0  0  0]\n",
            " [ 0 40  0  0  0  0  0  0  0  0]\n",
            " [ 0  0 37  0  0  0  0  1  0  0]\n",
            " [ 0  0  0 52  0  0  0  0  0  0]\n",
            " [ 0  0  0  0 38  0  0  0  0  0]\n",
            " [ 0  0  0  0  0 49  0  0  0  1]\n",
            " [ 0  0  0  0  0  0 45  0  0  0]\n",
            " [ 0  0  0  0  0  0  0 39  0  0]\n",
            " [ 0  2  0  1  0  0  0  0 48  1]\n",
            " [ 0  0  0  1  0  0  0  0  1 51]]\n"
          ],
          "name": "stdout"
        }
      ]
    },
    {
      "metadata": {
        "id": "d3y8xnulNjAq",
        "colab_type": "code",
        "colab": {
          "autoexec": {
            "startup": false,
            "wait_interval": 0
          },
          "base_uri": "https://localhost:8080/",
          "height": 272
        },
        "outputId": "9a13c724-0aa7-4962-9503-66cf3ab3b4ba",
        "executionInfo": {
          "status": "ok",
          "timestamp": 1528827391674,
          "user_tz": -330,
          "elapsed": 1028,
          "user": {
            "displayName": "naman bhardwaj",
            "photoUrl": "//lh5.googleusercontent.com/-lOfdMFCMasA/AAAAAAAAAAI/AAAAAAAAE2U/ePtzxwaE5ow/s50-c-k-no/photo.jpg",
            "userId": "106833748446108197788"
          }
        }
      },
      "cell_type": "code",
      "source": [
        "print(classification_report(y_test,y_pred))"
      ],
      "execution_count": 9,
      "outputs": [
        {
          "output_type": "stream",
          "text": [
            "             precision    recall  f1-score   support\n",
            "\n",
            "          0       1.00      1.00      1.00        43\n",
            "          1       0.91      1.00      0.95        40\n",
            "          2       0.97      1.00      0.99        38\n",
            "          3       0.98      1.00      0.99        52\n",
            "          4       1.00      1.00      1.00        38\n",
            "          5       0.98      0.98      0.98        50\n",
            "          6       1.00      1.00      1.00        45\n",
            "          7       1.00      0.97      0.99        39\n",
            "          8       0.94      0.87      0.90        52\n",
            "          9       0.96      0.94      0.95        53\n",
            "\n",
            "avg / total       0.97      0.97      0.97       450\n",
            "\n"
          ],
          "name": "stdout"
        }
      ]
    },
    {
      "metadata": {
        "id": "LF34ygbRN_I0",
        "colab_type": "text"
      },
      "cell_type": "markdown",
      "source": [
        "**Poly SVM**"
      ]
    },
    {
      "metadata": {
        "id": "9o4tBIKhN6SI",
        "colab_type": "code",
        "colab": {
          "autoexec": {
            "startup": false,
            "wait_interval": 0
          },
          "base_uri": "https://localhost:8080/",
          "height": 139
        },
        "outputId": "a648cbf3-239d-4ea9-a7a3-d4ae466fce63",
        "executionInfo": {
          "status": "ok",
          "timestamp": 1528827471133,
          "user_tz": -330,
          "elapsed": 1063,
          "user": {
            "displayName": "naman bhardwaj",
            "photoUrl": "//lh5.googleusercontent.com/-lOfdMFCMasA/AAAAAAAAAAI/AAAAAAAAE2U/ePtzxwaE5ow/s50-c-k-no/photo.jpg",
            "userId": "106833748446108197788"
          }
        }
      },
      "cell_type": "code",
      "source": [
        "model=SVC(kernel='poly', degree=5)\n",
        "model.fit(x_train,y_train)"
      ],
      "execution_count": 10,
      "outputs": [
        {
          "output_type": "stream",
          "text": [
            "/usr/local/lib/python3.6/dist-packages/sklearn/utils/validation.py:578: DataConversionWarning: A column-vector y was passed when a 1d array was expected. Please change the shape of y to (n_samples, ), for example using ravel().\n",
            "  y = column_or_1d(y, warn=True)\n"
          ],
          "name": "stderr"
        },
        {
          "output_type": "execute_result",
          "data": {
            "text/plain": [
              "SVC(C=1.0, cache_size=200, class_weight=None, coef0=0.0,\n",
              "  decision_function_shape='ovr', degree=5, gamma='auto', kernel='poly',\n",
              "  max_iter=-1, probability=False, random_state=None, shrinking=True,\n",
              "  tol=0.001, verbose=False)"
            ]
          },
          "metadata": {
            "tags": []
          },
          "execution_count": 10
        }
      ]
    },
    {
      "metadata": {
        "id": "12oxDAI_OGCp",
        "colab_type": "code",
        "colab": {
          "autoexec": {
            "startup": false,
            "wait_interval": 0
          }
        }
      },
      "cell_type": "code",
      "source": [
        "y_pred=model.predict(x_test)"
      ],
      "execution_count": 0,
      "outputs": []
    },
    {
      "metadata": {
        "id": "nE-5lmY2OHLd",
        "colab_type": "code",
        "colab": {
          "autoexec": {
            "startup": false,
            "wait_interval": 0
          },
          "base_uri": "https://localhost:8080/",
          "height": 187
        },
        "outputId": "45cdc93b-927e-4a19-be22-67f7b43c0398",
        "executionInfo": {
          "status": "ok",
          "timestamp": 1528827536087,
          "user_tz": -330,
          "elapsed": 1064,
          "user": {
            "displayName": "naman bhardwaj",
            "photoUrl": "//lh5.googleusercontent.com/-lOfdMFCMasA/AAAAAAAAAAI/AAAAAAAAE2U/ePtzxwaE5ow/s50-c-k-no/photo.jpg",
            "userId": "106833748446108197788"
          }
        }
      },
      "cell_type": "code",
      "source": [
        "print(confusion_matrix(y_test,y_pred))"
      ],
      "execution_count": 13,
      "outputs": [
        {
          "output_type": "stream",
          "text": [
            "[[43  0  0  0  0  0  0  0  0  0]\n",
            " [ 0 40  0  0  0  0  0  0  0  0]\n",
            " [ 0  0 37  0  0  0  0  1  0  0]\n",
            " [ 0  0  0 52  0  0  0  0  0  0]\n",
            " [ 0  0  0  0 38  0  0  0  0  0]\n",
            " [ 0  0  0  0  0 49  0  0  0  1]\n",
            " [ 0  0  0  0  0  0 45  0  0  0]\n",
            " [ 0  0  0  0  0  0  0 39  0  0]\n",
            " [ 0  2  0  1  0  0  0  0 48  1]\n",
            " [ 0  0  0  1  0  0  0  0  1 51]]\n"
          ],
          "name": "stdout"
        }
      ]
    },
    {
      "metadata": {
        "id": "wNIbaRK5OY61",
        "colab_type": "code",
        "colab": {
          "autoexec": {
            "startup": false,
            "wait_interval": 0
          },
          "base_uri": "https://localhost:8080/",
          "height": 272
        },
        "outputId": "8d639235-0008-43ec-ab93-71565149407e",
        "executionInfo": {
          "status": "ok",
          "timestamp": 1528827582988,
          "user_tz": -330,
          "elapsed": 1116,
          "user": {
            "displayName": "naman bhardwaj",
            "photoUrl": "//lh5.googleusercontent.com/-lOfdMFCMasA/AAAAAAAAAAI/AAAAAAAAE2U/ePtzxwaE5ow/s50-c-k-no/photo.jpg",
            "userId": "106833748446108197788"
          }
        }
      },
      "cell_type": "code",
      "source": [
        "print(classification_report(y_test,y_pred))"
      ],
      "execution_count": 14,
      "outputs": [
        {
          "output_type": "stream",
          "text": [
            "             precision    recall  f1-score   support\n",
            "\n",
            "          0       1.00      1.00      1.00        43\n",
            "          1       0.95      1.00      0.98        40\n",
            "          2       1.00      0.97      0.99        38\n",
            "          3       0.96      1.00      0.98        52\n",
            "          4       1.00      1.00      1.00        38\n",
            "          5       1.00      0.98      0.99        50\n",
            "          6       1.00      1.00      1.00        45\n",
            "          7       0.97      1.00      0.99        39\n",
            "          8       0.98      0.92      0.95        52\n",
            "          9       0.96      0.96      0.96        53\n",
            "\n",
            "avg / total       0.98      0.98      0.98       450\n",
            "\n"
          ],
          "name": "stdout"
        }
      ]
    },
    {
      "metadata": {
        "id": "gZOrsbx6Ob-W",
        "colab_type": "text"
      },
      "cell_type": "markdown",
      "source": [
        "**Gassian SVM**"
      ]
    },
    {
      "metadata": {
        "id": "R49Iz_4zOfJe",
        "colab_type": "code",
        "colab": {
          "autoexec": {
            "startup": false,
            "wait_interval": 0
          },
          "base_uri": "https://localhost:8080/",
          "height": 139
        },
        "outputId": "122f2dc6-6f5a-47f7-9b14-00805ac738c6",
        "executionInfo": {
          "status": "ok",
          "timestamp": 1528827685304,
          "user_tz": -330,
          "elapsed": 1505,
          "user": {
            "displayName": "naman bhardwaj",
            "photoUrl": "//lh5.googleusercontent.com/-lOfdMFCMasA/AAAAAAAAAAI/AAAAAAAAE2U/ePtzxwaE5ow/s50-c-k-no/photo.jpg",
            "userId": "106833748446108197788"
          }
        }
      },
      "cell_type": "code",
      "source": [
        "model=SVC(kernel='rbf')\n",
        "model.fit(x_train,y_train)"
      ],
      "execution_count": 15,
      "outputs": [
        {
          "output_type": "stream",
          "text": [
            "/usr/local/lib/python3.6/dist-packages/sklearn/utils/validation.py:578: DataConversionWarning: A column-vector y was passed when a 1d array was expected. Please change the shape of y to (n_samples, ), for example using ravel().\n",
            "  y = column_or_1d(y, warn=True)\n"
          ],
          "name": "stderr"
        },
        {
          "output_type": "execute_result",
          "data": {
            "text/plain": [
              "SVC(C=1.0, cache_size=200, class_weight=None, coef0=0.0,\n",
              "  decision_function_shape='ovr', degree=3, gamma='auto', kernel='rbf',\n",
              "  max_iter=-1, probability=False, random_state=None, shrinking=True,\n",
              "  tol=0.001, verbose=False)"
            ]
          },
          "metadata": {
            "tags": []
          },
          "execution_count": 15
        }
      ]
    },
    {
      "metadata": {
        "id": "OwYDWxxFO0rj",
        "colab_type": "code",
        "colab": {
          "autoexec": {
            "startup": false,
            "wait_interval": 0
          }
        }
      },
      "cell_type": "code",
      "source": [
        "y_pred=model.predict(x_test)"
      ],
      "execution_count": 0,
      "outputs": []
    },
    {
      "metadata": {
        "id": "jI18e3w6O1MD",
        "colab_type": "code",
        "colab": {
          "autoexec": {
            "startup": false,
            "wait_interval": 0
          },
          "base_uri": "https://localhost:8080/",
          "height": 187
        },
        "outputId": "6e5c479c-2080-4471-ca70-02acd8981ce4",
        "executionInfo": {
          "status": "ok",
          "timestamp": 1528827708575,
          "user_tz": -330,
          "elapsed": 991,
          "user": {
            "displayName": "naman bhardwaj",
            "photoUrl": "//lh5.googleusercontent.com/-lOfdMFCMasA/AAAAAAAAAAI/AAAAAAAAE2U/ePtzxwaE5ow/s50-c-k-no/photo.jpg",
            "userId": "106833748446108197788"
          }
        }
      },
      "cell_type": "code",
      "source": [
        "print(confusion_matrix(y_test,y_pred))"
      ],
      "execution_count": 17,
      "outputs": [
        {
          "output_type": "stream",
          "text": [
            "[[28  0 15  0  0  0  0  0  0  0]\n",
            " [ 0 27 13  0  0  0  0  0  0  0]\n",
            " [ 0  0 38  0  0  0  0  0  0  0]\n",
            " [ 0  0 29 23  0  0  0  0  0  0]\n",
            " [ 0  0  4  0 34  0  0  0  0  0]\n",
            " [ 0  0 36  0  0 14  0  0  0  0]\n",
            " [ 0  0 19  0  0  0 26  0  0  0]\n",
            " [ 0  0  5  0  0  0  0 34  0  0]\n",
            " [ 0  0 51  0  0  0  0  0  1  0]\n",
            " [ 0  0 47  0  0  0  0  0  0  6]]\n"
          ],
          "name": "stdout"
        }
      ]
    },
    {
      "metadata": {
        "id": "Q1CXbUEzO4Bp",
        "colab_type": "code",
        "colab": {
          "autoexec": {
            "startup": false,
            "wait_interval": 0
          },
          "base_uri": "https://localhost:8080/",
          "height": 272
        },
        "outputId": "507aa288-dada-4fe1-de7d-f93880434e9c",
        "executionInfo": {
          "status": "ok",
          "timestamp": 1528827718819,
          "user_tz": -330,
          "elapsed": 1084,
          "user": {
            "displayName": "naman bhardwaj",
            "photoUrl": "//lh5.googleusercontent.com/-lOfdMFCMasA/AAAAAAAAAAI/AAAAAAAAE2U/ePtzxwaE5ow/s50-c-k-no/photo.jpg",
            "userId": "106833748446108197788"
          }
        }
      },
      "cell_type": "code",
      "source": [
        "print(classification_report(y_test,y_pred))"
      ],
      "execution_count": 18,
      "outputs": [
        {
          "output_type": "stream",
          "text": [
            "             precision    recall  f1-score   support\n",
            "\n",
            "          0       1.00      0.65      0.79        43\n",
            "          1       1.00      0.68      0.81        40\n",
            "          2       0.15      1.00      0.26        38\n",
            "          3       1.00      0.44      0.61        52\n",
            "          4       1.00      0.89      0.94        38\n",
            "          5       1.00      0.28      0.44        50\n",
            "          6       1.00      0.58      0.73        45\n",
            "          7       1.00      0.87      0.93        39\n",
            "          8       1.00      0.02      0.04        52\n",
            "          9       1.00      0.11      0.20        53\n",
            "\n",
            "avg / total       0.93      0.51      0.55       450\n",
            "\n"
          ],
          "name": "stdout"
        }
      ]
    },
    {
      "metadata": {
        "id": "wHhXNfvmO-tf",
        "colab_type": "text"
      },
      "cell_type": "markdown",
      "source": [
        "**Sigmoid** **SVM**"
      ]
    },
    {
      "metadata": {
        "id": "zCBAi0nXO86C",
        "colab_type": "code",
        "colab": {
          "autoexec": {
            "startup": false,
            "wait_interval": 0
          },
          "base_uri": "https://localhost:8080/",
          "height": 139
        },
        "outputId": "970baec5-8c7b-4bb2-99e3-ac773ab745e8",
        "executionInfo": {
          "status": "ok",
          "timestamp": 1528827802121,
          "user_tz": -330,
          "elapsed": 1058,
          "user": {
            "displayName": "naman bhardwaj",
            "photoUrl": "//lh5.googleusercontent.com/-lOfdMFCMasA/AAAAAAAAAAI/AAAAAAAAE2U/ePtzxwaE5ow/s50-c-k-no/photo.jpg",
            "userId": "106833748446108197788"
          }
        }
      },
      "cell_type": "code",
      "source": [
        "model=SVC(kernel='sigmoid')\n",
        "model.fit(x_train,y_train)"
      ],
      "execution_count": 19,
      "outputs": [
        {
          "output_type": "stream",
          "text": [
            "/usr/local/lib/python3.6/dist-packages/sklearn/utils/validation.py:578: DataConversionWarning: A column-vector y was passed when a 1d array was expected. Please change the shape of y to (n_samples, ), for example using ravel().\n",
            "  y = column_or_1d(y, warn=True)\n"
          ],
          "name": "stderr"
        },
        {
          "output_type": "execute_result",
          "data": {
            "text/plain": [
              "SVC(C=1.0, cache_size=200, class_weight=None, coef0=0.0,\n",
              "  decision_function_shape='ovr', degree=3, gamma='auto', kernel='sigmoid',\n",
              "  max_iter=-1, probability=False, random_state=None, shrinking=True,\n",
              "  tol=0.001, verbose=False)"
            ]
          },
          "metadata": {
            "tags": []
          },
          "execution_count": 19
        }
      ]
    },
    {
      "metadata": {
        "id": "0YBpndtsPO1q",
        "colab_type": "code",
        "colab": {
          "autoexec": {
            "startup": false,
            "wait_interval": 0
          }
        }
      },
      "cell_type": "code",
      "source": [
        "y_pred=model.predict(x_test)"
      ],
      "execution_count": 0,
      "outputs": []
    },
    {
      "metadata": {
        "id": "Si29Z2EuPQzd",
        "colab_type": "code",
        "colab": {
          "autoexec": {
            "startup": false,
            "wait_interval": 0
          },
          "base_uri": "https://localhost:8080/",
          "height": 187
        },
        "outputId": "c962369a-8945-4862-ba58-e3ebbf930d8c",
        "executionInfo": {
          "status": "ok",
          "timestamp": 1528827818004,
          "user_tz": -330,
          "elapsed": 692,
          "user": {
            "displayName": "naman bhardwaj",
            "photoUrl": "//lh5.googleusercontent.com/-lOfdMFCMasA/AAAAAAAAAAI/AAAAAAAAE2U/ePtzxwaE5ow/s50-c-k-no/photo.jpg",
            "userId": "106833748446108197788"
          }
        }
      },
      "cell_type": "code",
      "source": [
        "print(confusion_matrix(y_test,y_pred))"
      ],
      "execution_count": 21,
      "outputs": [
        {
          "output_type": "stream",
          "text": [
            "[[ 0  0  0  0 43  0  0  0  0  0]\n",
            " [ 0  0  0  0 40  0  0  0  0  0]\n",
            " [ 0  0  0  0 38  0  0  0  0  0]\n",
            " [ 0  0  0  0 52  0  0  0  0  0]\n",
            " [ 0  0  0  0 38  0  0  0  0  0]\n",
            " [ 0  0  0  0 50  0  0  0  0  0]\n",
            " [ 0  0  0  0 45  0  0  0  0  0]\n",
            " [ 0  0  0  0 39  0  0  0  0  0]\n",
            " [ 0  0  0  0 52  0  0  0  0  0]\n",
            " [ 0  0  0  0 53  0  0  0  0  0]]\n"
          ],
          "name": "stdout"
        }
      ]
    },
    {
      "metadata": {
        "id": "zEEQF2QlPS0F",
        "colab_type": "code",
        "colab": {
          "autoexec": {
            "startup": false,
            "wait_interval": 0
          },
          "base_uri": "https://localhost:8080/",
          "height": 326
        },
        "outputId": "eeb5ad3e-3799-4fbe-dd3d-f200e0d128aa",
        "executionInfo": {
          "status": "ok",
          "timestamp": 1528827856904,
          "user_tz": -330,
          "elapsed": 1055,
          "user": {
            "displayName": "naman bhardwaj",
            "photoUrl": "//lh5.googleusercontent.com/-lOfdMFCMasA/AAAAAAAAAAI/AAAAAAAAE2U/ePtzxwaE5ow/s50-c-k-no/photo.jpg",
            "userId": "106833748446108197788"
          }
        }
      },
      "cell_type": "code",
      "source": [
        "print(classification_report(y_test,y_pred))"
      ],
      "execution_count": 22,
      "outputs": [
        {
          "output_type": "stream",
          "text": [
            "             precision    recall  f1-score   support\n",
            "\n",
            "          0       0.00      0.00      0.00        43\n",
            "          1       0.00      0.00      0.00        40\n",
            "          2       0.00      0.00      0.00        38\n",
            "          3       0.00      0.00      0.00        52\n",
            "          4       0.08      1.00      0.16        38\n",
            "          5       0.00      0.00      0.00        50\n",
            "          6       0.00      0.00      0.00        45\n",
            "          7       0.00      0.00      0.00        39\n",
            "          8       0.00      0.00      0.00        52\n",
            "          9       0.00      0.00      0.00        53\n",
            "\n",
            "avg / total       0.01      0.08      0.01       450\n",
            "\n"
          ],
          "name": "stdout"
        },
        {
          "output_type": "stream",
          "text": [
            "/usr/local/lib/python3.6/dist-packages/sklearn/metrics/classification.py:1135: UndefinedMetricWarning: Precision and F-score are ill-defined and being set to 0.0 in labels with no predicted samples.\n",
            "  'precision', 'predicted', average, warn_for)\n"
          ],
          "name": "stderr"
        }
      ]
    }
  ]
}