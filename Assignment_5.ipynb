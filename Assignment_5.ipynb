{
 "cells": [
  {
   "cell_type": "markdown",
   "metadata": {},
   "source": [
    "# Question1"
   ]
  },
  {
   "cell_type": "code",
   "execution_count": 12,
   "metadata": {},
   "outputs": [
    {
     "name": "stdout",
     "output_type": "stream",
     "text": [
      "  school sex  age  health  absences    G1    G2    G3\n",
      "0     GP   F   18       3         6   5.0   6.0   6.0\n",
      "1     GP   F   17       3         4   5.0   5.0   6.0\n",
      "2     GP   F   15       3        10   7.0   8.0  10.0\n",
      "3     GP   F   15       5         2  15.0  14.0  15.0\n",
      "4     GP   F   16       5         4   6.0  10.0  10.0\n",
      "(1044, 8)\n"
     ]
    }
   ],
   "source": [
    "import pandas as pd\n",
    "\n",
    "ds=pd.read_csv(r\"C:\\Users\\naman\\Desktop\\DataAssignment.csv\")\n",
    "print(ds.head())\n",
    "\n",
    "print(ds.shape)"
   ]
  },
  {
   "cell_type": "code",
   "execution_count": 82,
   "metadata": {},
   "outputs": [
    {
     "name": "stdout",
     "output_type": "stream",
     "text": [
      "     G1    G2    G3\n",
      "0   5.0   6.0   6.0\n",
      "1   5.0   5.0   6.0\n",
      "2   7.0   8.0  10.0\n",
      "3  15.0  14.0  15.0\n",
      "4   6.0  10.0  10.0\n"
     ]
    }
   ],
   "source": [
    "print(ds.iloc[:,5:8].head())"
   ]
  },
  {
   "cell_type": "markdown",
   "metadata": {},
   "source": [
    "# Question 2"
   ]
  },
  {
   "cell_type": "code",
   "execution_count": 21,
   "metadata": {},
   "outputs": [
    {
     "name": "stdout",
     "output_type": "stream",
     "text": [
      "school      False\n",
      "sex         False\n",
      "age         False\n",
      "health      False\n",
      "absences    False\n",
      "G1           True\n",
      "G2           True\n",
      "G3           True\n",
      "dtype: bool\n",
      "The above dataset has NULL values.\n"
     ]
    }
   ],
   "source": [
    "checknull=ds.isnull().any()\n",
    "print(checknull)\n",
    "\n",
    "print(\"The above dataset has NULL values.\")"
   ]
  },
  {
   "cell_type": "code",
   "execution_count": 83,
   "metadata": {},
   "outputs": [
    {
     "name": "stdout",
     "output_type": "stream",
     "text": [
      "school      False\n",
      "sex         False\n",
      "age         False\n",
      "health      False\n",
      "absences    False\n",
      "G1          False\n",
      "G2          False\n",
      "G3          False\n",
      "dtype: bool\n",
      "The above dataset has not any NULL values.\n"
     ]
    }
   ],
   "source": [
    "from sklearn.preprocessing import Imputer\n",
    "import numpy as np\n",
    "\n",
    "imp = Imputer(missing_values='NaN', strategy='mean', axis=0)    #Instance of imputer class\n",
    "\n",
    "value=ds.iloc[:,5:8]   #Get the required values of column\n",
    "\n",
    "value=imp.fit_transform(value)   #Fit the imputer on the data and transform the data\n",
    "#print(np.isnan(np.min(value)))\n",
    "#print(np.min(value))\n",
    "\n",
    "ds.iloc[:,5:8]=value    #Replace by new values\n",
    "#print(ds.iloc[:,5:8])\n",
    "\n",
    "checknull=ds.isnull().any()   #Checking for NULL values\n",
    "print(checknull)\n",
    "print(\"The above dataset has not any NULL values.\")"
   ]
  },
  {
   "cell_type": "code",
   "execution_count": 152,
   "metadata": {},
   "outputs": [
    {
     "name": "stdout",
     "output_type": "stream",
     "text": [
      "[0 0 0 ..., 1 1 1]\n",
      "\n",
      "\n",
      "[0 0 0 ..., 0 1 1]\n"
     ]
    }
   ],
   "source": [
    "from sklearn.preprocessing import LabelEncoder\n",
    "from sklearn.preprocessing import OneHotEncoder\n",
    "Oencoder=OneHotEncoder()\n",
    "Lencoder=LabelEncoder()\n",
    "\n",
    "school = ds[\"school\"]\n",
    "school=Lencoder.fit_transform(school)    #Label Encoded school feature\n",
    "print(school)\n",
    "#print(encoder.classes_)\n",
    "enc_school=Oencoder.fit_transform(school.reshape(-1,1))     #OneHotEncoded school feature\n",
    "#print(enc_school)\n",
    "\n",
    "print(\"\\n\")\n",
    "\n",
    "sex=ds[\"sex\"]\n",
    "sex=Lencoder.fit_transform(sex)    #Label Encoded sex feature\n",
    "print(sex)\n",
    "#print(encoder.classes_)\n",
    "sex=Oencoder.fit_transform(sex.reshape(-1,1))       #OneHotEncoded sex feature\n",
    "#print(sex)"
   ]
  },
  {
   "cell_type": "code",
   "execution_count": 159,
   "metadata": {},
   "outputs": [
    {
     "name": "stdout",
     "output_type": "stream",
     "text": [
      "(835, 8)\n",
      "(209, 8)\n"
     ]
    }
   ],
   "source": [
    "from sklearn.model_selection import train_test_split\n",
    "a,b=train_test_split(ds, test_size=0.2)              #Splitting the data into 80%-20% ratio.  \n",
    "print(a.shape)  #Training set\n",
    "print(b.shape)  #Testing set"
   ]
  },
  {
   "cell_type": "markdown",
   "metadata": {},
   "source": [
    "Sir, Can't get the last question. (Ques. - Standardize the Training Split for better performance.)"
   ]
  }
 ],
 "metadata": {
  "kernelspec": {
   "display_name": "Python 3",
   "language": "python",
   "name": "python3"
  },
  "language_info": {
   "codemirror_mode": {
    "name": "ipython",
    "version": 3
   },
   "file_extension": ".py",
   "mimetype": "text/x-python",
   "name": "python",
   "nbconvert_exporter": "python",
   "pygments_lexer": "ipython3",
   "version": "3.6.0"
  }
 },
 "nbformat": 4,
 "nbformat_minor": 2
}
